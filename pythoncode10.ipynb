{
 "cells": [
  {
   "cell_type": "markdown",
   "id": "3d7fe8f8-6010-4ca4-a047-117f3673c8b5",
   "metadata": {},
   "source": [
    "# 1.check the numbeer is even or odd"
   ]
  },
  {
   "cell_type": "code",
   "execution_count": 7,
   "id": "8d7e106f-c94b-4447-ae73-475021b7a8c7",
   "metadata": {},
   "outputs": [
    {
     "name": "stdin",
     "output_type": "stream",
     "text": [
      "enter a number 5\n"
     ]
    },
    {
     "name": "stdout",
     "output_type": "stream",
     "text": [
      "5 is odd.\n"
     ]
    }
   ],
   "source": [
    "\n",
    "def check(number):\n",
    "  if number % 2 == 0:\n",
    "      print(f\"{number} is even.\")\n",
    "  else:\n",
    "      print(f\"{number} is odd.\")\n",
    "\n",
    "\n",
    "number=int(input(\"enter a number\"))\n",
    "check(number)\n"
   ]
  },
  {
   "cell_type": "markdown",
   "id": "241e940b-0fc2-4785-b0ad-370d4af9ff21",
   "metadata": {},
   "source": [
    "# 2.count the total number of digits"
   ]
  },
  {
   "cell_type": "code",
   "execution_count": 9,
   "id": "7d5e43cc-a1c4-44e3-ad6a-624296cfa04c",
   "metadata": {
    "scrolled": true
   },
   "outputs": [
    {
     "name": "stdin",
     "output_type": "stream",
     "text": [
      "Enter the number 654\n"
     ]
    },
    {
     "data": {
      "text/plain": [
       "3"
      ]
     },
     "execution_count": 9,
     "metadata": {},
     "output_type": "execute_result"
    }
   ],
   "source": [
    "def countdigits(n):\n",
    "    return len(str(n))\n",
    "\n",
    "n=int(input(\"Enter the number\"))\n",
    "countdigits(n)\n"
   ]
  },
  {
   "cell_type": "markdown",
   "id": "4583788b-402a-4bdf-b3b6-f8952ff14bcb",
   "metadata": {},
   "source": [
    "# 3.print the reverse number pattern using a for loop\n",
    "# 5 4 3 2 1\n",
    "# 4 3 2 1\n",
    "# 3 2 1\n",
    "# 2 1 \n",
    "# 1"
   ]
  },
  {
   "cell_type": "code",
   "execution_count": 13,
   "id": "cf6a7f8c-cdcb-4dbd-8b4e-501cf3e2dd97",
   "metadata": {},
   "outputs": [
    {
     "name": "stdin",
     "output_type": "stream",
     "text": [
      "Enter the number 5\n"
     ]
    },
    {
     "name": "stdout",
     "output_type": "stream",
     "text": [
      "5 4 3 2 1  \n",
      "4 3 2 1  \n",
      "3 2 1  \n",
      "2 1  \n",
      "1  \n"
     ]
    }
   ],
   "source": [
    "def reverse_num(rows):\n",
    "    for i in range(rows ,0 ,-1):\n",
    "        for j in range(i, 0, -1):\n",
    "            print(j, end=\" \")\n",
    "        print(\" \")\n",
    "\n",
    "n=int(input(\"Enter the number\"))\n",
    "reverse_num(n)"
   ]
  },
  {
   "cell_type": "markdown",
   "id": "d0a7a2c8-47ed-4ac4-a339-74fb00eb9e2d",
   "metadata": {},
   "source": [
    "# 4.print all prime numbers within a range"
   ]
  },
  {
   "cell_type": "code",
   "execution_count": 15,
   "id": "c0cc4c86-f330-4bee-829d-e1db0bb35d63",
   "metadata": {},
   "outputs": [
    {
     "name": "stdin",
     "output_type": "stream",
     "text": [
      "Enter the starting number of the range:  0\n",
      "Enter the ending number of the range:  100\n"
     ]
    },
    {
     "name": "stdout",
     "output_type": "stream",
     "text": [
      "Prime numbers between 0 and 100 are: \n",
      "2 3 5 7 11 13 17 19 23 29 31 37 41 43 47 53 59 61 67 71 73 79 83 89 97 "
     ]
    }
   ],
   "source": [
    "def prime(n):\n",
    "    if n < 2:\n",
    "        return False\n",
    "    for i in range(2, int(n ** 0.5)+1):\n",
    "        if n % i == 0:\n",
    "            return False\n",
    "    return True \n",
    "start = int(input(\"Enter the starting number of the range: \"))\n",
    "end = int(input(\"Enter the ending number of the range: \"))\n",
    "print(f\"Prime numbers between {start} and {end} are: \")\n",
    "for n in range(start,end+1):\n",
    "    if prime(n):\n",
    "        print(n,end=\" \")"
   ]
  },
  {
   "cell_type": "markdown",
   "id": "4c6fa223-67a6-44f5-96b5-acee5d8478fa",
   "metadata": {},
   "source": [
    "# 5.find the factorial"
   ]
  },
  {
   "cell_type": "code",
   "execution_count": 17,
   "id": "1108c6b8-adf6-429e-83f6-2a3151552d65",
   "metadata": {},
   "outputs": [
    {
     "name": "stdin",
     "output_type": "stream",
     "text": [
      "Enter the number 5\n"
     ]
    },
    {
     "data": {
      "text/plain": [
       "120"
      ]
     },
     "execution_count": 17,
     "metadata": {},
     "output_type": "execute_result"
    }
   ],
   "source": [
    "def fact(n):\n",
    "    if n == 0:\n",
    "        return 1\n",
    "    else:\n",
    "        fact = 1\n",
    "        for i in range(1,n+1):\n",
    "            fact=fact*i\n",
    "        return fact\n",
    "    \n",
    "n=int(input(\"Enter the number\"))\n",
    "fact(n)"
   ]
  },
  {
   "cell_type": "markdown",
   "id": "bb3d55fb-8223-44a6-b83d-eb678e80292d",
   "metadata": {},
   "source": [
    "# 6.program to check palindrome nuumber"
   ]
  },
  {
   "cell_type": "code",
   "execution_count": 1,
   "id": "bfe00687-b3bd-45ec-9297-6546c41a5761",
   "metadata": {},
   "outputs": [
    {
     "name": "stdin",
     "output_type": "stream",
     "text": [
      "enter the number 121\n"
     ]
    },
    {
     "name": "stdout",
     "output_type": "stream",
     "text": [
      "the number is palindrome number\n"
     ]
    }
   ],
   "source": [
    "n=int(input(\"enter the number\"))\n",
    "temp=n\n",
    "rev=0\n",
    "while(n>0):\n",
    "    dig=n%10\n",
    "    rev=rev*10+dig\n",
    "    n=n//10\n",
    "if(temp==rev):\n",
    "    print(\"the number is palindrome number\")\n",
    "else:\n",
    "    print(\"the number is not palindrome number\")\n"
   ]
  },
  {
   "cell_type": "markdown",
   "id": "c58a8fdf-2006-4f8c-a9d1-9eefd9005209",
   "metadata": {},
   "source": [
    "# 7.check amstrong number"
   ]
  },
  {
   "cell_type": "code",
   "execution_count": 5,
   "id": "3c140a68-db98-4780-879b-a09d3e36237d",
   "metadata": {},
   "outputs": [
    {
     "name": "stdin",
     "output_type": "stream",
     "text": [
      "enter the number 15\n"
     ]
    },
    {
     "name": "stdout",
     "output_type": "stream",
     "text": [
      "the number is not amstrong number\n"
     ]
    }
   ],
   "source": [
    "n=int(input(\"enter the number\"))\n",
    "sum=0\n",
    "order=len(str(n))\n",
    "a=n\n",
    "while(n>0):\n",
    "    digit= n%10\n",
    "    sum=sum+digit**order\n",
    "    n=n//10\n",
    "if(sum==n):\n",
    "    print(\"the number is amstrong number\")\n",
    "else:\n",
    "    print(\"the number is not amstrong number\")"
   ]
  },
  {
   "cell_type": "markdown",
   "id": "bbb77885-9ccf-4273-bd0c-30a08a0168a4",
   "metadata": {},
   "source": [
    "# 8.maximum of three numbers"
   ]
  },
  {
   "cell_type": "code",
   "execution_count": 23,
   "id": "f735c23b-d13a-4ead-8a05-4f974b349521",
   "metadata": {},
   "outputs": [
    {
     "name": "stdin",
     "output_type": "stream",
     "text": [
      "enter the number n1 2\n",
      "enter the number n2 3\n",
      "enter the number n3 6\n"
     ]
    },
    {
     "name": "stdout",
     "output_type": "stream",
     "text": [
      "n3 is the maximum number\n"
     ]
    }
   ],
   "source": [
    "n1=int(input(\"enter the number n1\"))\n",
    "n2=int(input(\"enter the number n2\"))\n",
    "n3=int(input(\"enter the number n3\"))\n",
    "if(n1>n2 and n1>n3):\n",
    "    print(\"n1 is the maximum number\")\n",
    "elif(n2>n1 and n2>n3):\n",
    "    print(\"n2 is the maximum number\")\n",
    "else:\n",
    "    print(\"n3 is the maximum number\")\n"
   ]
  },
  {
   "cell_type": "markdown",
   "id": "37d94953-c45b-4ff4-af71-87221e826dd9",
   "metadata": {},
   "source": [
    "# 9.sum of digits"
   ]
  },
  {
   "cell_type": "code",
   "execution_count": 43,
   "id": "19b46752-89fb-45ee-a1d2-5d6c670269f0",
   "metadata": {},
   "outputs": [
    {
     "name": "stdin",
     "output_type": "stream",
     "text": [
      "enter the number 159632\n"
     ]
    },
    {
     "data": {
      "text/plain": [
       "26"
      ]
     },
     "execution_count": 43,
     "metadata": {},
     "output_type": "execute_result"
    }
   ],
   "source": [
    "\n",
    "def fun(n):\n",
    "    if (n==0):\n",
    "        return 0\n",
    "    return (n%10)+fun(n//10)\n",
    "\n",
    "n=int(input(\"enter the number\"))\n",
    "fun(n)"
   ]
  },
  {
   "cell_type": "markdown",
   "id": "193bb4df-2d9d-46c4-af5f-8bbe3324a317",
   "metadata": {},
   "source": [
    "# 10.print the natural number summation pattern"
   ]
  },
  {
   "cell_type": "code",
   "execution_count": 8,
   "id": "c6e03434-5c6f-49b4-9305-3cb67ec68d99",
   "metadata": {},
   "outputs": [
    {
     "name": "stdout",
     "output_type": "stream",
     "text": [
      "1 = 1\n",
      "1 + 2 = 3\n",
      "1 + 2 + 3 = 6\n",
      "1 + 2 + 3 + 4 = 10\n",
      "1 + 2 + 3 + 4 + 5 = 15\n"
     ]
    }
   ],
   "source": [
    "def print_summation_pattern(n):\n",
    "    total = 0\n",
    "    for i in range(1, n + 1):\n",
    "        total += i\n",
    "        print(\" + \".join(map(str, range(1, i + 1))), \"=\", total)\n",
    "\n",
    "n = 5\n",
    "print_summation_pattern(n)"
   ]
  },
  {
   "cell_type": "code",
   "execution_count": null,
   "id": "37bb0ce0-ee4d-401e-b4cc-1803625fc4d0",
   "metadata": {},
   "outputs": [],
   "source": []
  }
 ],
 "metadata": {
  "kernelspec": {
   "display_name": "Python [conda env:base] *",
   "language": "python",
   "name": "conda-base-py"
  },
  "language_info": {
   "codemirror_mode": {
    "name": "ipython",
    "version": 3
   },
   "file_extension": ".py",
   "mimetype": "text/x-python",
   "name": "python",
   "nbconvert_exporter": "python",
   "pygments_lexer": "ipython3",
   "version": "3.12.7"
  }
 },
 "nbformat": 4,
 "nbformat_minor": 5
}
