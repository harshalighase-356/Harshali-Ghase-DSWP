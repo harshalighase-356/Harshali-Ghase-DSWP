{
 "cells": [
  {
   "cell_type": "code",
   "execution_count": 6,
   "id": "f205c7d5-f0b0-4357-a73d-22ce5aed5cf6",
   "metadata": {},
   "outputs": [
    {
     "name": "stdout",
     "output_type": "stream",
     "text": [
      "1\n",
      "2\n",
      "3\n",
      "4\n",
      "5\n",
      "6\n"
     ]
    }
   ],
   "source": [
    "# while loop and break\n",
    "i = 1 \n",
    "while i < 10: \n",
    "    print (i)\n",
    "    if i == 6:\n",
    "        break\n",
    "    i += 1"
   ]
  },
  {
   "cell_type": "code",
   "execution_count": 8,
   "id": "70bca5ee-e0e3-4716-aced-754ec683b349",
   "metadata": {},
   "outputs": [
    {
     "name": "stdout",
     "output_type": "stream",
     "text": [
      "1\n",
      "2\n",
      "3\n",
      "4\n",
      "5\n",
      "6\n",
      "7\n",
      "9\n",
      "10\n"
     ]
    }
   ],
   "source": [
    "# while loop and continue\n",
    "i = 0\n",
    "while i < 10:\n",
    "  i += 1\n",
    "  if i == 8:\n",
    "    continue\n",
    "  print(i)"
   ]
  },
  {
   "cell_type": "code",
   "execution_count": 10,
   "id": "fc82d339-43f3-45b2-8811-4c49fb8b7e4e",
   "metadata": {},
   "outputs": [
    {
     "name": "stdout",
     "output_type": "stream",
     "text": [
      "1\n",
      "2\n",
      "3\n",
      "4\n",
      "5\n",
      "6\n",
      "7\n",
      "8\n",
      "9\n",
      " i is no longer less than 10\n"
     ]
    }
   ],
   "source": [
    "# else statement \n",
    "i = 1 \n",
    "while i < 10:\n",
    "    print (i)\n",
    "    i += 1\n",
    "else: \n",
    "    print (\" i is no longer less than 10\")"
   ]
  },
  {
   "cell_type": "code",
   "execution_count": 14,
   "id": "c4e88844-b050-4a77-aa7b-677d848ef7a3",
   "metadata": {},
   "outputs": [
    {
     "name": "stdout",
     "output_type": "stream",
     "text": [
      "Linux\n",
      "Windows\n",
      "Ubantu\n",
      "W\n",
      "i\n",
      "n\n",
      "d\n",
      "o\n",
      "w\n",
      "s\n"
     ]
    }
   ],
   "source": [
    "# for loop and looping through string\n",
    "os = [\"Linux\" , \"Windows\" , \"Ubantu\"]\n",
    "for x in os:\n",
    "    print(x)\n",
    "for x in \"Windows\" :\n",
    "    print (x)"
   ]
  },
  {
   "cell_type": "code",
   "execution_count": 18,
   "id": "7f04bb37-662b-46cb-8130-9cfff7065d72",
   "metadata": {},
   "outputs": [
    {
     "name": "stdout",
     "output_type": "stream",
     "text": [
      "Linux\n",
      "Linux\n",
      "Ubantu\n"
     ]
    }
   ],
   "source": [
    "# for loop with break and continue \n",
    "os = [\"Linux\" , \"Windows\" , \"Ubantu\"]\n",
    "for x in os:\n",
    "    if x == \"Windows\":\n",
    "        break\n",
    "    print (x)\n",
    "for x in os: \n",
    "    if x == \"Windows\":\n",
    "        continue\n",
    "    print(x)"
   ]
  },
  {
   "cell_type": "code",
   "execution_count": 22,
   "id": "6f5ec68a-acd1-4cbc-ac10-3759a4fa9ee8",
   "metadata": {},
   "outputs": [
    {
     "name": "stdout",
     "output_type": "stream",
     "text": [
      "10\n",
      "12\n",
      "14\n",
      "16\n",
      "18\n",
      "20\n",
      "22\n",
      "24\n",
      "26\n",
      "28\n",
      "30\n",
      "32\n",
      "34\n",
      "36\n",
      "38\n",
      "40\n",
      "42\n",
      "44\n",
      "46\n",
      "48\n",
      "50\n",
      "52\n",
      "54\n",
      "56\n",
      "58\n"
     ]
    }
   ],
   "source": [
    "# range function \n",
    "for x in range (10 ,60 ,2):\n",
    "    print (x)"
   ]
  },
  {
   "cell_type": "code",
   "execution_count": 24,
   "id": "fe6cc03f-df36-4006-8d7e-3736d385ca25",
   "metadata": {},
   "outputs": [
    {
     "name": "stdout",
     "output_type": "stream",
     "text": [
      "0\n",
      "1\n",
      "2\n",
      "3\n",
      "4\n",
      "5\n",
      "6\n",
      "7\n",
      "8\n",
      "9\n",
      "Finally Finished\n"
     ]
    }
   ],
   "source": [
    "# range and else statement \n",
    "for x in range(10):\n",
    "    print (x)\n",
    "else : \n",
    "    print (\"Finally Finished\")"
   ]
  },
  {
   "cell_type": "code",
   "execution_count": 26,
   "id": "cc670304-6c01-40a4-9f8c-c29e503afa15",
   "metadata": {},
   "outputs": [
    {
     "name": "stdout",
     "output_type": "stream",
     "text": [
      "Linux C\n",
      "Linux C++\n",
      "Linux Python\n",
      "Windows C\n",
      "Windows C++\n",
      "Windows Python\n",
      "Ubantu C\n",
      "Ubantu C++\n",
      "Ubantu Python\n"
     ]
    }
   ],
   "source": [
    "# Nested Loops\n",
    "os = [\"Linux\" , \"Windows\" , \"Ubantu\"]\n",
    "lan = [\"C\" , \"C++\" , \"Python\"]\n",
    "for x in os:\n",
    "    for y in lan:\n",
    "        print (x,y)"
   ]
  },
  {
   "cell_type": "code",
   "execution_count": 28,
   "id": "856aa96e-fc8b-4479-b3de-e4943310361d",
   "metadata": {},
   "outputs": [],
   "source": [
    "# pass statement \n",
    "for x in [0,1,2,3]:\n",
    "    pass"
   ]
  },
  {
   "cell_type": "code",
   "execution_count": null,
   "id": "f19fdbc1-13a5-4fdc-a50d-59bc18887c42",
   "metadata": {},
   "outputs": [],
   "source": []
  }
 ],
 "metadata": {
  "kernelspec": {
   "display_name": "Python [conda env:base] *",
   "language": "python",
   "name": "conda-base-py"
  },
  "language_info": {
   "codemirror_mode": {
    "name": "ipython",
    "version": 3
   },
   "file_extension": ".py",
   "mimetype": "text/x-python",
   "name": "python",
   "nbconvert_exporter": "python",
   "pygments_lexer": "ipython3",
   "version": "3.12.7"
  }
 },
 "nbformat": 4,
 "nbformat_minor": 5
}
