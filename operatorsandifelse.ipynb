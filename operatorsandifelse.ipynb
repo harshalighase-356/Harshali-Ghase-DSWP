{
 "cells": [
  {
   "cell_type": "code",
   "execution_count": 1,
   "id": "beb448b6-8581-4819-a650-3cea8b616bc8",
   "metadata": {},
   "outputs": [
    {
     "name": "stdout",
     "output_type": "stream",
     "text": [
      "0\n",
      "36\n",
      "-12\n",
      "288\n",
      "0.5\n",
      "12\n",
      "79496847203390844133441536\n"
     ]
    }
   ],
   "source": [
    "# Arithmatic Operators \n",
    "x = 12 \n",
    "y = 24 \n",
    "print (x // y)\n",
    "print (x + y)\n",
    "print (x - y)\n",
    "print (x * y)\n",
    "print (x / y)\n",
    "print (x % y)\n",
    "print (x ** y)"
   ]
  },
  {
   "cell_type": "code",
   "execution_count": 5,
   "id": "604cdd83-fd92-43d5-945c-f687e72a448d",
   "metadata": {},
   "outputs": [
    {
     "name": "stdout",
     "output_type": "stream",
     "text": [
      "10\n",
      "7\n",
      "21\n",
      "7.0\n",
      "1.0\n",
      "1.0\n"
     ]
    },
    {
     "ename": "TypeError",
     "evalue": "unsupported operand type(s) for |=: 'float' and 'int'",
     "output_type": "error",
     "traceback": [
      "\u001b[1;31m---------------------------------------------------------------------------\u001b[0m",
      "\u001b[1;31mTypeError\u001b[0m                                 Traceback (most recent call last)",
      "Cell \u001b[1;32mIn[5], line 15\u001b[0m\n\u001b[0;32m     13\u001b[0m x \u001b[38;5;241m*\u001b[39m\u001b[38;5;241m*\u001b[39m\u001b[38;5;241m=\u001b[39m \u001b[38;5;241m3\u001b[39m\n\u001b[0;32m     14\u001b[0m \u001b[38;5;28mprint\u001b[39m (x)\n\u001b[1;32m---> 15\u001b[0m x \u001b[38;5;241m|\u001b[39m\u001b[38;5;241m=\u001b[39m \u001b[38;5;241m3\u001b[39m\n\u001b[0;32m     16\u001b[0m \u001b[38;5;28mprint\u001b[39m (x)\n\u001b[0;32m     17\u001b[0m x \u001b[38;5;241m^\u001b[39m\u001b[38;5;241m=\u001b[39m \u001b[38;5;241m3\u001b[39m\n",
      "\u001b[1;31mTypeError\u001b[0m: unsupported operand type(s) for |=: 'float' and 'int'"
     ]
    }
   ],
   "source": [
    "# Assignment Operators \n",
    "x = 7 \n",
    "x += 3\n",
    "print (x)\n",
    "x -= 3\n",
    "print (x)\n",
    "x *= 3\n",
    "print (x)\n",
    "x /= 3\n",
    "print (x)\n",
    "x %= 3\n",
    "print (x)\n",
    "x **= 3\n",
    "print (x)\n",
    "x |= 3\n",
    "print (x)\n",
    "x ^= 3\n",
    "print (x)\n",
    "x >>= 3\n",
    "print (x)\n",
    "x <<= 3\n",
    "print (x)\n",
    "print (x := 3)\n",
    "x //= 3\n",
    "print (x)\n",
    "x &= 3\n",
    "print (x)"
   ]
  },
  {
   "cell_type": "code",
   "execution_count": 17,
   "id": "82634d57-6462-4958-9810-83c8113d2e85",
   "metadata": {},
   "outputs": [
    {
     "name": "stdout",
     "output_type": "stream",
     "text": [
      "False\n",
      "True\n",
      "False\n",
      "True\n",
      "False\n",
      "True\n"
     ]
    }
   ],
   "source": [
    "#  Comaprison operators\n",
    "x = 12 \n",
    "y = 34\n",
    "print (x == y)\n",
    "print (x != y)\n",
    "print (x > y)\n",
    "print (x < y)\n",
    "print (x >= y)\n",
    "print (x <= y)"
   ]
  },
  {
   "cell_type": "code",
   "execution_count": 21,
   "id": "8bf9cabc-d089-4338-99b6-a1715c5371a0",
   "metadata": {},
   "outputs": [
    {
     "name": "stdout",
     "output_type": "stream",
     "text": [
      "False\n",
      "True\n",
      "False\n",
      "True\n",
      "False\n",
      "True\n"
     ]
    }
   ],
   "source": [
    "# Identity Operators\n",
    "y = [\"Ubantu\" , \"Linux\"]\n",
    "x = [\"Ubantu\" , \"Linux\"]\n",
    "z = x\n",
    "print (x is not z)\n",
    "print (x is not y)\n",
    "print (x != y)\n",
    "\n",
    "print (x is z)\n",
    "print (x is y)\n",
    "print (x == y)"
   ]
  },
  {
   "cell_type": "code",
   "execution_count": 23,
   "id": "3b91e4f2-7c7a-44ac-aacd-31b1c80f6fff",
   "metadata": {},
   "outputs": [
    {
     "name": "stdout",
     "output_type": "stream",
     "text": [
      "True\n",
      "True\n"
     ]
    }
   ],
   "source": [
    "# Membership Operators\n",
    "x = [\"Ubantu\" , \"Linux\"]\n",
    "print (\"Linux\" in x)\n",
    "print (\"KaliLinux\" not in x)"
   ]
  },
  {
   "cell_type": "code",
   "execution_count": 25,
   "id": "44b76d68-2d87-4cc4-8ecb-badbd6a6bbca",
   "metadata": {},
   "outputs": [
    {
     "name": "stdout",
     "output_type": "stream",
     "text": [
      "4\n",
      "6\n",
      "2\n",
      "256\n",
      "0\n",
      "-7\n"
     ]
    }
   ],
   "source": [
    "# Bitwise Operators\n",
    "x = 4 \n",
    "y = 6 \n",
    "print (x & y)\n",
    "print (x | y)\n",
    "print (x ^ y)\n",
    "print (x << y)\n",
    "print (x >> y)\n",
    "print (~y)"
   ]
  },
  {
   "cell_type": "code",
   "execution_count": 33,
   "id": "2384c662-2da3-4ed6-9822-0127e5020a67",
   "metadata": {},
   "outputs": [
    {
     "name": "stdout",
     "output_type": "stream",
     "text": [
      "b is greater than a\n"
     ]
    }
   ],
   "source": [
    "# if else and elif\n",
    "a = 33\n",
    "b = 200 \n",
    "if b > a:\n",
    "    print (\"b is greater than a\")\n",
    "elif a == b:\n",
    "    print (\"a is equal to b\")"
   ]
  },
  {
   "cell_type": "code",
   "execution_count": 37,
   "id": "aafcb159-8265-4332-aaed-080d3ee12032",
   "metadata": {},
   "outputs": [
    {
     "name": "stdout",
     "output_type": "stream",
     "text": [
      "a is not equal to b\n"
     ]
    }
   ],
   "source": [
    "# short hand if\n",
    "a = 45\n",
    "b = 56\n",
    "if a != b: print (\"a is not equal to b\")"
   ]
  },
  {
   "cell_type": "code",
   "execution_count": null,
   "id": "a488139d-c255-42de-b6b3-7f3dd3bfd399",
   "metadata": {},
   "outputs": [],
   "source": []
  }
 ],
 "metadata": {
  "kernelspec": {
   "display_name": "Python [conda env:base] *",
   "language": "python",
   "name": "conda-base-py"
  },
  "language_info": {
   "codemirror_mode": {
    "name": "ipython",
    "version": 3
   },
   "file_extension": ".py",
   "mimetype": "text/x-python",
   "name": "python",
   "nbconvert_exporter": "python",
   "pygments_lexer": "ipython3",
   "version": "3.12.7"
  }
 },
 "nbformat": 4,
 "nbformat_minor": 5
}
