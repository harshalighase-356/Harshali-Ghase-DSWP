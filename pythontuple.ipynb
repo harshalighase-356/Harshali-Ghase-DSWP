{
 "cells": [
  {
   "cell_type": "markdown",
   "id": "4e81b373-863b-4a13-8f17-23f52252487e",
   "metadata": {},
   "source": [
    "# Allow Duplicates\n",
    "Since tuples are indexed,they can have items with the same value"
   ]
  },
  {
   "cell_type": "code",
   "execution_count": 10,
   "id": "c32d2627-b085-4730-9605-12ec4bffe411",
   "metadata": {},
   "outputs": [
    {
     "name": "stdout",
     "output_type": "stream",
     "text": [
      "('applebanana', 'cherry', 'apple', 'cherry')\n",
      "<class 'tuple'>\n"
     ]
    }
   ],
   "source": [
    "thistuple = (\"apple\",\"banana\" , \"cherry\" , \"apple\" , \"cherry\")\n",
    "print(thistuple)\n",
    "\n",
    "tuple1 = (\"apple\", \"banana\" , \"cherry\")\n",
    "tuple2 = (1 , 5, 7 , 9, 3)\n",
    "tuple3 = (True, False , False)\n",
    "tuple4 = (\"abc\", 34, True, 40, \"male\")\n",
    "print(type(tuple4))\n",
    "\n"
   ]
  },
  {
   "cell_type": "markdown",
   "id": "7b3bd76f-85f1-4ebc-aec4-77b4a21fd2c6",
   "metadata": {},
   "source": [
    "#  Different Ways of Creating a Tuple\n",
    " • Using round brackets\n",
    " • Without Brackets\n",
    " • Tuple Constructor\n",
    " • Empty Tuple\n",
    " • Single Element Tuple\n",
    " • Using Tuple Packing\n",
    " "
   ]
  },
  {
   "cell_type": "code",
   "execution_count": 13,
   "id": "778885ac-bd5d-4300-9a8a-17d3d25a9186",
   "metadata": {},
   "outputs": [
    {
     "name": "stdout",
     "output_type": "stream",
     "text": [
      "('gfg', 'Python')\n",
      "(4, 5, 6)\n",
      "(7, 8, 9)\n",
      "()\n",
      "(10,)\n",
      "<class 'tuple'>\n",
      "10\n",
      "<class 'int'>\n"
     ]
    }
   ],
   "source": [
    " #Using Round Brackets\n",
    "tup = (\"gfg\", \"Python\") \n",
    "print(tup)\n",
    " \n",
    " # Using Comma Separated\n",
    " # Creating a tuple without brackets\n",
    "tup = 4, 5, 6\n",
    "print(tup) \n",
    "\n",
    " # Using Tuple Constructor\n",
    " # Creating a tuple using the tuple() constructor\n",
    "tup = tuple([7, 8, 9])\n",
    "print(tup)  \n",
    "\n",
    " # Creating an Empty Tuple\n",
    " # Creating an empty tuple\n",
    "tup = ()\n",
    "print(tup)  \n",
    "# Single Element Tuple\n",
    " # Creating a single-element tuple\n",
    "tup = (10, ) \n",
    "# Comma is important here\n",
    "print(tup)  \n",
    "# Output: (10,)\n",
    "print(type(tup))\n",
    " # What if we do not use comma\n",
    "tup = ( 10) \n",
    "# This an integer (not a tuple)\n",
    "print(tup)  \n",
    "print(type(tup))"
   ]
  },
  {
   "cell_type": "markdown",
   "id": "5a151d6b-688c-4e3e-b830-8e2622151c30",
   "metadata": {},
   "source": [
    "#  The tuple() Constructor"
   ]
  },
  {
   "cell_type": "code",
   "execution_count": 18,
   "id": "2b6dffea-e21d-41f4-83bd-8633f94d6cfb",
   "metadata": {},
   "outputs": [
    {
     "name": "stdout",
     "output_type": "stream",
     "text": [
      "('apple', 'banana', 'cherry')\n"
     ]
    }
   ],
   "source": [
    "thistuple = tuple((\"apple\", \"banana\", \"cherry\")) \n",
    "\n",
    "print(thistuple)\n",
    " "
   ]
  },
  {
   "cell_type": "markdown",
   "id": "5eef111b-17cd-426d-a3f5-640a25071fd8",
   "metadata": {},
   "source": [
    "# Access Tuple Items"
   ]
  },
  {
   "cell_type": "code",
   "execution_count": 21,
   "id": "65b56081-94d4-4a74-ba2e-f63214e668cc",
   "metadata": {},
   "outputs": [
    {
     "name": "stdout",
     "output_type": "stream",
     "text": [
      "banana\n"
     ]
    }
   ],
   "source": [
    " thistuple = (\"apple\", \"banana\", \"cherry\")\n",
    " print(thistuple[1])"
   ]
  },
  {
   "cell_type": "markdown",
   "id": "eb3cee70-0a92-44d9-a01d-9200f8b17cff",
   "metadata": {},
   "source": [
    "#  Negative Indexing"
   ]
  },
  {
   "cell_type": "code",
   "execution_count": 24,
   "id": "d0d1e11e-fa81-4689-a419-93c9c4dab3a2",
   "metadata": {},
   "outputs": [
    {
     "name": "stdout",
     "output_type": "stream",
     "text": [
      "cherry\n"
     ]
    }
   ],
   "source": [
    " thistuple = (\"apple\", \"banana\", \"cherry\")\n",
    " print(thistuple[-1])"
   ]
  },
  {
   "cell_type": "markdown",
   "id": "5736647e-5dfd-408c-b676-5365b4460f0a",
   "metadata": {},
   "source": [
    "# Range of Indexes"
   ]
  },
  {
   "cell_type": "code",
   "execution_count": 29,
   "id": "35311ba7-ea5a-4a94-8c52-be191c14fac0",
   "metadata": {},
   "outputs": [
    {
     "name": "stdout",
     "output_type": "stream",
     "text": [
      "('cherry', 'orange', 'kiwi')\n",
      "('apple', 'banana', 'cherry', 'orange')\n",
      "('cherry', 'orange', 'kiwi', 'melon', 'mango')\n",
      "('orange', 'kiwi', 'melon')\n"
     ]
    }
   ],
   "source": [
    " thistuple = (\"apple\", \"banana\", \"cherry\", \"orange\", \"kiwi\", \"melon\", \"mango\")\n",
    " print(thistuple[2:5])\n",
    "\n",
    "thistuple = (\"apple\", \"banana\", \"cherry\", \"orange\", \"kiwi\", \"melon\", \"mango\")\n",
    "print(thistuple[:4])\n",
    "\n",
    "thistuple = (\"apple\", \"banana\", \"cherry\", \"orange\", \"kiwi\", \"melon\", \"mango\")\n",
    "print(thistuple[2:])\n",
    "\n",
    "thistuple = (\"apple\", \"banana\", \"cherry\", \"orange\", \"kiwi\", \"melon\", \"mango\")\n",
    "print(thistuple[-4:-1])"
   ]
  },
  {
   "cell_type": "markdown",
   "id": "72ab97b2-252c-4a37-954c-0b414bd24322",
   "metadata": {},
   "source": [
    "#  Check if Item Exists"
   ]
  },
  {
   "cell_type": "code",
   "execution_count": 34,
   "id": "3bb396d5-2854-4e0b-ad42-c60122919e34",
   "metadata": {},
   "outputs": [
    {
     "name": "stdout",
     "output_type": "stream",
     "text": [
      "Yes, 'apple' is in the fruits tuple\n"
     ]
    }
   ],
   "source": [
    "thistuple = (\"apple\", \"banana\", \"cherry\")\n",
    "if \"apple\" in thistuple:\n",
    " print(\"Yes, 'apple' is in the fruits tuple\")\n",
    " "
   ]
  },
  {
   "cell_type": "markdown",
   "id": "449d77a2-c4e7-4095-b326-fde49afaa267",
   "metadata": {},
   "source": [
    "# Change Tuple Values"
   ]
  },
  {
   "cell_type": "code",
   "execution_count": 37,
   "id": "e3ce10d6-264c-4f63-ae5c-2623b35768ec",
   "metadata": {},
   "outputs": [
    {
     "name": "stdout",
     "output_type": "stream",
     "text": [
      "('apple', 'kiwi', 'cherry')\n"
     ]
    }
   ],
   "source": [
    " x = (\"apple\", \"banana\", \"cherry\")\n",
    " y = list(x)\n",
    " y[1] = \"kiwi\"\n",
    " x = tuple(y)\n",
    " print(x)"
   ]
  },
  {
   "cell_type": "markdown",
   "id": "c67eddad-0af3-4ccf-b0fd-a60116644f35",
   "metadata": {},
   "source": [
    "#  Add Items"
   ]
  },
  {
   "cell_type": "code",
   "execution_count": 40,
   "id": "91cc2ccf-3461-4465-a265-6c5b19e9e1d5",
   "metadata": {},
   "outputs": [
    {
     "name": "stdout",
     "output_type": "stream",
     "text": [
      "('apple', 'banana', 'cherry', 'orange')\n",
      "('apple', 'banana', 'cherry', 'orange')\n"
     ]
    }
   ],
   "source": [
    " thistuple = (\"apple\", \"banana\", \"cherry\")\n",
    " y = list(thistuple)\n",
    " y.append(\"orange\")\n",
    " thistuple = tuple(y)\n",
    " print(thistuple)\n",
    "\n",
    " thistuple = (\"apple\", \"banana\", \"cherry\")\n",
    " y = (\"orange\",)\n",
    " thistuple += y\n",
    " print(thistuple)"
   ]
  },
  {
   "cell_type": "markdown",
   "id": "dd0bd879-0bf1-4201-afb0-baf8e5b09d28",
   "metadata": {},
   "source": [
    "# Remove Items"
   ]
  },
  {
   "cell_type": "code",
   "execution_count": 43,
   "id": "ea605ce4-eeff-4bfe-8dee-6c3760cf87c0",
   "metadata": {},
   "outputs": [
    {
     "name": "stdout",
     "output_type": "stream",
     "text": [
      "('banana', 'cherry')\n"
     ]
    },
    {
     "ename": "NameError",
     "evalue": "name 'thistuple' is not defined",
     "output_type": "error",
     "traceback": [
      "\u001b[1;31m---------------------------------------------------------------------------\u001b[0m",
      "\u001b[1;31mNameError\u001b[0m                                 Traceback (most recent call last)",
      "Cell \u001b[1;32mIn[43], line 9\u001b[0m\n\u001b[0;32m      7\u001b[0m thistuple \u001b[38;5;241m=\u001b[39m (\u001b[38;5;124m\"\u001b[39m\u001b[38;5;124mapple\u001b[39m\u001b[38;5;124m\"\u001b[39m, \u001b[38;5;124m\"\u001b[39m\u001b[38;5;124mbanana\u001b[39m\u001b[38;5;124m\"\u001b[39m, \u001b[38;5;124m\"\u001b[39m\u001b[38;5;124mcherry\u001b[39m\u001b[38;5;124m\"\u001b[39m)\n\u001b[0;32m      8\u001b[0m \u001b[38;5;28;01mdel\u001b[39;00m thistuple\n\u001b[1;32m----> 9\u001b[0m \u001b[38;5;28mprint\u001b[39m(thistuple)\n",
      "\u001b[1;31mNameError\u001b[0m: name 'thistuple' is not defined"
     ]
    }
   ],
   "source": [
    " thistuple = (\"apple\", \"banana\", \"cherry\")\n",
    " y = list(thistuple)\n",
    " y.remove(\"apple\")\n",
    " thistuple = tuple(y)\n",
    " print(thistuple)\n",
    "\n",
    "thistuple = (\"apple\", \"banana\", \"cherry\")\n",
    " del thistuple\n",
    " print(thistuple)"
   ]
  },
  {
   "cell_type": "markdown",
   "id": "1950b931-d0eb-4790-b41e-588f5fda8496",
   "metadata": {},
   "source": [
    "#  Traversing Items of Python Tuples"
   ]
  },
  {
   "cell_type": "code",
   "execution_count": 48,
   "id": "f1184e41-79cc-4807-a047-489ab6002973",
   "metadata": {},
   "outputs": [
    {
     "name": "stdout",
     "output_type": "stream",
     "text": [
      "1 2 3 4 5 "
     ]
    }
   ],
   "source": [
    "tup = (1, 2, 3, 4, 5)\n",
    "\n",
    "for x in tup:\n",
    "    print(x, end=\" \")"
   ]
  },
  {
   "cell_type": "markdown",
   "id": "9abb613d-aae8-45d8-862b-f6f64e5ecf7e",
   "metadata": {},
   "source": [
    "# Concatenation of Python Tuples"
   ]
  },
  {
   "cell_type": "code",
   "execution_count": 53,
   "id": "51d4ef85-8696-41f7-a09c-49cc82dbc46e",
   "metadata": {},
   "outputs": [
    {
     "name": "stdout",
     "output_type": "stream",
     "text": [
      "(0, 1, 2, 3, 'python', 'geek')\n"
     ]
    }
   ],
   "source": [
    "tup1 = (0, 1, 2, 3)\n",
    "tup2 = ('python' , 'geek')\n",
    " # Concatenating above two\n",
    "print(tup1 + tup2)"
   ]
  },
  {
   "cell_type": "markdown",
   "id": "4648079e-7ec7-4a0a-a1ab-6d29b35ecf19",
   "metadata": {},
   "source": [
    "#  Nesting of Python Tuples"
   ]
  },
  {
   "cell_type": "code",
   "execution_count": 56,
   "id": "f0969f41-f7a5-4b7d-af0f-6510d2928078",
   "metadata": {},
   "outputs": [
    {
     "name": "stdout",
     "output_type": "stream",
     "text": [
      "((0, 1, 2, 3), ('python', 'geek'))\n"
     ]
    }
   ],
   "source": [
    "tup1 = (0, 1, 2, 3)\n",
    "tup2 = ('python', 'geek')\n",
    "tup3 =(tup1, tup2)\n",
    "print(tup3)"
   ]
  },
  {
   "cell_type": "markdown",
   "id": "366f12ae-5cdb-4ad3-b541-0bb99c137e68",
   "metadata": {},
   "source": [
    "# Repetition Python Tuples"
   ]
  },
  {
   "cell_type": "code",
   "execution_count": 61,
   "id": "b55d4516-59c6-4edb-8435-be0f570f2419",
   "metadata": {},
   "outputs": [
    {
     "name": "stdout",
     "output_type": "stream",
     "text": [
      "('python', 'python', 'python')\n"
     ]
    }
   ],
   "source": [
    "tup = ('python',)*3\n",
    "print(tup)\n"
   ]
  },
  {
   "cell_type": "markdown",
   "id": "fb6b41a3-fc16-4d5b-9638-246a679212ec",
   "metadata": {},
   "source": [
    "# Slicing Tuples in Python"
   ]
  },
  {
   "cell_type": "code",
   "execution_count": 64,
   "id": "93656980-4b12-491d-832d-f5cc8b61a0ed",
   "metadata": {},
   "outputs": [
    {
     "name": "stdout",
     "output_type": "stream",
     "text": [
      "(1, 2, 3)\n",
      "(3, 2, 1, 0)\n",
      "(2, 3)\n"
     ]
    }
   ],
   "source": [
    " tup = (0 ,1, 2, 3)\n",
    " print(tup[1:])\n",
    " print(tup[::-1])\n",
    " print(tup[2:4])"
   ]
  },
  {
   "cell_type": "markdown",
   "id": "4da2f52b-4698-4669-a367-ab17a1683169",
   "metadata": {},
   "source": [
    "#  Finding the Length of a Python Tuple"
   ]
  },
  {
   "cell_type": "code",
   "execution_count": 67,
   "id": "a33efcd2-445b-4f86-8e57-f5e81ff4edaa",
   "metadata": {},
   "outputs": [
    {
     "name": "stdout",
     "output_type": "stream",
     "text": [
      "2\n"
     ]
    }
   ],
   "source": [
    "tup = ('python', 'geek')\n",
    "print(len(tup))"
   ]
  },
  {
   "cell_type": "markdown",
   "id": "3d189103-c127-4655-a3ce-ddc105e2bfbb",
   "metadata": {},
   "source": [
    "#  Multiple Data Types With Tuple"
   ]
  },
  {
   "cell_type": "code",
   "execution_count": 70,
   "id": "7bf4c50b-cf3d-491d-94bb-d9af92c8f782",
   "metadata": {},
   "outputs": [
    {
     "name": "stdout",
     "output_type": "stream",
     "text": [
      "('immutable', True, 23)\n"
     ]
    }
   ],
   "source": [
    "tup = (\"immutable\", True, 23)\n",
    "print(tup)"
   ]
  },
  {
   "cell_type": "markdown",
   "id": "b13b3ddb-9bbd-4e00-8025-98199ccb441c",
   "metadata": {},
   "source": [
    "#  Converting a List to a Tuple"
   ]
  },
  {
   "cell_type": "code",
   "execution_count": 75,
   "id": "a97b4ae2-5b0e-411f-a381-d9c5b385e9fc",
   "metadata": {},
   "outputs": [
    {
     "name": "stdout",
     "output_type": "stream",
     "text": [
      "(0, 1, 2)\n"
     ]
    }
   ],
   "source": [
    " a = [0, 1, 2]\n",
    " tup = tuple(a)\n",
    " print(tup)\n"
   ]
  },
  {
   "cell_type": "markdown",
   "id": "09c3d8ff-6695-4bdc-b8b7-26b00e5341b2",
   "metadata": {},
   "source": [
    "#  Unpacking a Tuple in Python"
   ]
  },
  {
   "cell_type": "code",
   "execution_count": 78,
   "id": "4223c42c-f59d-4bbd-ba9d-b0ec25ed6edd",
   "metadata": {},
   "outputs": [
    {
     "name": "stdout",
     "output_type": "stream",
     "text": [
      "100\n",
      "200\n",
      "300\n"
     ]
    }
   ],
   "source": [
    "a, b, c = (100, 200,300)\n",
    "print(a)  \n",
    "print(b)  \n",
    "print(c)  "
   ]
  },
  {
   "cell_type": "markdown",
   "id": "c02365c3-6bd3-41b9-ac5c-321ef2edf60f",
   "metadata": {},
   "source": [
    "# Tuple Unpacking Techniques"
   ]
  },
  {
   "cell_type": "markdown",
   "id": "99651e27-1d80-4984-a9cb-d51abe1cd9e7",
   "metadata": {},
   "source": [
    "#  1.\n",
    " Using _ for Unused Values If we don’t need certain values, use _ as a throwaway variable \n",
    "or placeholder:"
   ]
  },
  {
   "cell_type": "code",
   "execution_count": 88,
   "id": "114fd28c-b754-4eb7-b23a-dc4ce11f31f4",
   "metadata": {},
   "outputs": [
    {
     "name": "stdout",
     "output_type": "stream",
     "text": [
      "100\n",
      "300\n"
     ]
    }
   ],
   "source": [
    "a,b,c = (100,200,300) \n",
    "print(a)  \n",
    "print(c) "
   ]
  },
  {
   "cell_type": "markdown",
   "id": "c22d455a-2dd6-4f10-900a-22f96a40f4aa",
   "metadata": {},
   "source": [
    "#  2. Using * for Variable-Length Unpacking"
   ]
  },
  {
   "cell_type": "code",
   "execution_count": 93,
   "id": "f96102a0-8bf9-45d5-8d2b-91820acdfa10",
   "metadata": {},
   "outputs": [
    {
     "name": "stdout",
     "output_type": "stream",
     "text": [
      "1\n",
      "[2, 3, 4, 5]\n",
      "apple\n",
      "banana\n",
      "['cherry', 'strawberry', 'raspberry']\n",
      "apple\n",
      "['mango', 'papaya', 'pineapple']\n",
      "cherry\n"
     ]
    }
   ],
   "source": [
    "a, *b = (1, 2, 3, 4, 5)\n",
    "print(a)   \n",
    "print(b)   \n",
    "\n",
    " \n",
    "fruits = (\"apple\", \"banana\", \"cherry\", \"strawberry\", \"raspberry\")\n",
    "(green, yellow, *red) = fruits\n",
    "print(green)\n",
    "print(yellow)\n",
    "print(red)\n",
    "\n",
    " \n",
    "fruits = (\"apple\", \"mango\", \"papaya\", \"pineapple\", \"cherry\")\n",
    "(green, *tropic, red) = fruits\n",
    "print(green)\n",
    "print(tropic)\n",
    "print(red)"
   ]
  },
  {
   "cell_type": "markdown",
   "id": "e15a3cd2-9d6a-4f98-af3a-f717815f4874",
   "metadata": {},
   "source": [
    "#  3. Unpacking Nested Tuples"
   ]
  },
  {
   "cell_type": "code",
   "execution_count": 96,
   "id": "2c084bb9-4697-4c4e-be18-7a94e62e326b",
   "metadata": {},
   "outputs": [
    {
     "name": "stdout",
     "output_type": "stream",
     "text": [
      "1\n",
      "2\n",
      "3\n",
      "4\n"
     ]
    }
   ],
   "source": [
    "nested_tuple = (1, (2, 3), 4)\n",
    "a, (b, c), d = nested_tuple\n",
    "print(a)   \n",
    "print(b)   \n",
    "print(c)   \n",
    "print(d)   "
   ]
  },
  {
   "cell_type": "markdown",
   "id": "a997fee8-813e-4fef-b3af-572fd8799b8f",
   "metadata": {},
   "source": [
    "# 4. Tuple Unpacking with * in Function arguments\n"
   ]
  },
  {
   "cell_type": "markdown",
   "id": "a5b7e7fd-6eb9-4218-af2a-9c2282c045b0",
   "metadata": {},
   "source": [
    "#  a. using args: When defining a function, args allows passing multiple arguments as a tuple:"
   ]
  },
  {
   "cell_type": "code",
   "execution_count": 100,
   "id": "0c8bb1fd-82da-4682-acf8-4bc1a4ddffc0",
   "metadata": {},
   "outputs": [
    {
     "name": "stdout",
     "output_type": "stream",
     "text": [
      "10\n"
     ]
    }
   ],
   "source": [
    "def add(*args):\n",
    " return sum(args)\n",
    "print(add(1, 2, 3 , 4))"
   ]
  },
  {
   "cell_type": "markdown",
   "id": "9be22ce4-b065-4655-aa4e-ce203e2aca77",
   "metadata": {},
   "source": [
    "# b. Using * for Argument Unpacking: Tuple unpacking can also be used when calling a function:"
   ]
  },
  {
   "cell_type": "code",
   "execution_count": 103,
   "id": "4406d2a0-88fc-47eb-a559-454a6e59c8f8",
   "metadata": {},
   "outputs": [
    {
     "name": "stdout",
     "output_type": "stream",
     "text": [
      "6\n"
     ]
    }
   ],
   "source": [
    " def add(a, b, c):\n",
    "   return a +b + c\n",
    " nums = (1, 2, 3)\n",
    " print(add(* nums)) "
   ]
  },
  {
   "cell_type": "markdown",
   "id": "c253846d-8fb2-4fcd-a90b-9936d70cd93c",
   "metadata": {},
   "source": [
    "# Loop Through a Tuple"
   ]
  },
  {
   "cell_type": "code",
   "execution_count": 110,
   "id": "64e25cbd-0c8c-4f5a-a784-9b8c10d97d2b",
   "metadata": {},
   "outputs": [
    {
     "name": "stdout",
     "output_type": "stream",
     "text": [
      "apple\n",
      "banana\n",
      "cherry\n"
     ]
    }
   ],
   "source": [
    " thistuple = (\"apple\", \"banana\", \"cherry\")\n",
    " for x in thistuple:\n",
    "\n",
    "  print(x)\n",
    "\n"
   ]
  },
  {
   "cell_type": "markdown",
   "id": "4075e426-fcad-428f-b9de-9e1f82ed5b9f",
   "metadata": {},
   "source": [
    "# Loop Through the Index Numbers"
   ]
  },
  {
   "cell_type": "code",
   "execution_count": 113,
   "id": "f468a0ff-7283-49fb-9613-c584d1cc5217",
   "metadata": {},
   "outputs": [
    {
     "name": "stdout",
     "output_type": "stream",
     "text": [
      "apple\n",
      "banana\n",
      "cherry\n",
      "Index 0: red\n",
      "Index 1: green\n",
      "Index 2: blue\n",
      "Index 3: yellow\n"
     ]
    }
   ],
   "source": [
    " thistuple = (\"apple\", \"banana\", \"cherry\")\n",
    " for i in range(len(thistuple)):\n",
    "  print(thistuple[i])\n",
    "\n",
    "t = ('red', 'green', 'blue', 'yellow')\n",
    "\n",
    "for i, color in enumerate(t):\n",
    "    print(f\"Index {i}: {color}\")"
   ]
  },
  {
   "cell_type": "markdown",
   "id": "434695ed-9793-4199-af25-5b17c296b5ad",
   "metadata": {},
   "source": [
    "#  Using a While Loop"
   ]
  },
  {
   "cell_type": "code",
   "execution_count": 116,
   "id": "2245754b-b1fc-4613-8e12-42e355fcd46b",
   "metadata": {},
   "outputs": [
    {
     "name": "stdout",
     "output_type": "stream",
     "text": [
      "apple\n",
      "banana\n",
      "cherry\n",
      "red\n",
      "green\n",
      "blue\n",
      "yellow\n"
     ]
    }
   ],
   "source": [
    " thistuple = (\"apple\", \"banana\", \"cherry\")\n",
    " i = 0\n",
    " while i < len(thistuple):\n",
    "  print(thistuple[i])\n",
    "  i = i + 1\n",
    "\n",
    "t = ('red', 'green', 'blue', 'yellow')\n",
    "\n",
    "i = 0\n",
    "\n",
    " while i < len(t):\n",
    "    print(t[i])\n",
    "    i += 1"
   ]
  },
  {
   "cell_type": "markdown",
   "id": "3b65ae08-3eed-4e76-b635-f3430549c465",
   "metadata": {},
   "source": [
    "# Join Two Tuples"
   ]
  },
  {
   "cell_type": "code",
   "execution_count": 121,
   "id": "5a819c10-51a3-4693-bae2-3049c0551886",
   "metadata": {},
   "outputs": [
    {
     "name": "stdout",
     "output_type": "stream",
     "text": [
      "('a', 'b', 'c', 1, 2, 3)\n"
     ]
    }
   ],
   "source": [
    "tuple1 = (\"a\", \"b\" , \"c\")\n",
    "tuple2 = (1, 2, 3)\n",
    "tuple3 = tuple1 + tuple2\n",
    "print(tuple3)"
   ]
  },
  {
   "cell_type": "markdown",
   "id": "6a8340c0-7712-42bd-be20-487a76727c9a",
   "metadata": {},
   "source": [
    "#  Joining Tuples Using List Comprehension"
   ]
  },
  {
   "cell_type": "code",
   "execution_count": 124,
   "id": "c5b0f94d-9583-4fdf-afae-4cc8e5d96afe",
   "metadata": {},
   "outputs": [
    {
     "name": "stdout",
     "output_type": "stream",
     "text": [
      "Joined Tuple: [36, 24, 3, 84, 5, 81]\n"
     ]
    }
   ],
   "source": [
    "T1 = (36, 24, 3)\n",
    "T2 = (84, 5, 81)\n",
    "joined_tuple = [item for subtuple in [T1, T2] for item in subtuple]\n",
    "print(\"Joined Tuple:\", joined_tuple)"
   ]
  },
  {
   "cell_type": "markdown",
   "id": "0b507c95-7186-4f4d-a5ba-5d98ec4140ca",
   "metadata": {},
   "source": [
    "# Joining Tuples Using extend() Function\n",
    " The extend() function is not used for joining \n",
    "tuples in Python. It is used to extend a list by \n",
    "appending elements from another iterable \n",
    "(such as another list), effectively merging the \n",
    "two lists together."
   ]
  },
  {
   "cell_type": "code",
   "execution_count": 127,
   "id": "e8673b8e-355d-43aa-990c-c5d3ca8fcc6d",
   "metadata": {},
   "outputs": [
    {
     "name": "stdout",
     "output_type": "stream",
     "text": [
      "Joined Tuple: (10, 20, 30, 40, 'one', 'two', 'three', 'four')\n"
     ]
    }
   ],
   "source": [
    " T1 = (10,20,30,40)\n",
    " T2 = ('one', 'two', 'three', 'four')\n",
    " L1 = list(T1)\n",
    " L2 = list(T2)\n",
    " L1.extend(L2)\n",
    " T1 = tuple(L1)\n",
    " print (\"Joined Tuple:\", T1)"
   ]
  },
  {
   "cell_type": "markdown",
   "id": "6d03db4f-fa60-41ff-8707-ca0c2f5c25a5",
   "metadata": {},
   "source": [
    "#  Join Tuples using sum() Function\n",
    " In Python, the sum() function is used to add up all the elements in an iterable, such as a list, \n",
    "tuple, or set. It takes an iterable as its argument and returns the sum of all the elements in that \n",
    "iterable.\n",
    " We can join a tuple using the sum() function by providing the tuple as an argument to the sum() \n",
    "function. However, since the sum() function is specifically designed for numeric data types, this \n",
    "method only works for tuples containing numeric elements. It will add up all the numeric \n",
    "elements in the tuple and return their sum.\n",
    " Syntax Following is the syntax for using the sum() function to join tuples in Python −\n",
    " result_tuple = sum((tuple1, tuple2), ()) Here, the first argument is a tuple containing the tuples to \n",
    "be joined. The second argument is the starting value for the sum. Since we are joining tuples, we \n",
    "use an empty tuple () as the starting value."
   ]
  },
  {
   "cell_type": "code",
   "execution_count": 132,
   "id": "bf6d1351-955e-48a5-8c31-f0e17f83e7f4",
   "metadata": {},
   "outputs": [
    {
     "name": "stdout",
     "output_type": "stream",
     "text": [
      "Joined Tuple: (10, 20, 30, 40, 'one', 'two', 'three', 'four')\n"
     ]
    }
   ],
   "source": [
    "T1 = (10,20,30,40)\n",
    "T2 = ('one', 'two', 'three', 'four')\n",
    "T3 = sum((T1, T2), ())\n",
    "sum((T1, T2), ())\n",
    "print (\"Joined Tuple:\", T3)"
   ]
  },
  {
   "cell_type": "markdown",
   "id": "75fe8875-c31c-4c1a-84c0-6278de4650f4",
   "metadata": {},
   "source": [
    "# Multiply Tuples"
   ]
  },
  {
   "cell_type": "code",
   "execution_count": 135,
   "id": "76e6974e-ea67-427b-88bf-b3ce74ec8d7d",
   "metadata": {},
   "outputs": [
    {
     "name": "stdout",
     "output_type": "stream",
     "text": [
      "('apple', 'banana', 'cherry', 'apple', 'banana', 'cherry')\n"
     ]
    }
   ],
   "source": [
    " fruits = (\"apple\", \"banana\", \"cherry\")\n",
    " mytuple = fruits * 2\n",
    " print(mytuple)\n"
   ]
  },
  {
   "cell_type": "markdown",
   "id": "fa935b13-1b4d-47c0-8443-ca60ef145b58",
   "metadata": {},
   "source": [
    "# Joining Tuples using for Loop\n",
    " A for loop in Python is used for iterating over a sequence (such as a list, tuple, string, or range) \n",
    "and executing a block of code for each element in the sequence. The loop continues until all \n",
    "elements have been processed.\n",
    " We can join a tuple using a for loop by iterating over the elements of one tuple and appending \n",
    "each element to another tuple with the \"+=\" operator."
   ]
  },
  {
   "cell_type": "code",
   "execution_count": 138,
   "id": "09891cf2-7440-4a35-858c-535f1d12bc62",
   "metadata": {},
   "outputs": [
    {
     "name": "stdout",
     "output_type": "stream",
     "text": [
      "(10, 20, 30, 40, 'one', 'two', 'three', 'four')\n"
     ]
    }
   ],
   "source": [
    " T1 = (10,20,30,40)\n",
    " T2 = ('one', 'two', 'three', 'four')\n",
    " for t in T2:\n",
    "   T1+=(t,)\n",
    " print (T1)"
   ]
  },
  {
   "cell_type": "markdown",
   "id": "26069e58-4b54-4605-9e9e-49fe6f1e6b8d",
   "metadata": {},
   "source": [
    "# Count() Method\n",
    " The count() method of Tuple returns the number of times the given element appears in the \n",
    "tuple.\n",
    " Syntax:\n",
    " tuple.count(element)"
   ]
  },
  {
   "cell_type": "code",
   "execution_count": 143,
   "id": "ab3fdc45-02dc-4d33-8b4c-7456c61cba2d",
   "metadata": {},
   "outputs": [
    {
     "name": "stdout",
     "output_type": "stream",
     "text": [
      "Count of 3 in Tuple1 is: 3\n",
      "Count of Python in Tuple2 is: 3\n",
      "Count of (2, 3) in Tuple is: 2\n",
      "Count of [3, 2] in Tuple is: 1\n"
     ]
    }
   ],
   "source": [
    "Tuple1 = (0, 1, 2, 3, 2, 3, 1, 3, 2) \n",
    "Tuple2 = ('python', 'geek', 'python',  \n",
    "          'for', 'java', 'python') \n",
    "res = Tuple1.count(3) \n",
    "print('Count of 3 in Tuple1 is:', res) \n",
    "res = Tuple2.count('python') \n",
    "print('Count of Python in Tuple2 is:', res)\n",
    "Tuple = (0, 1, (2, 3), (2, 3), 1,  \n",
    "         [3, 2], 'geeks', (0,)) \n",
    "res = Tuple.count((2, 3)) \n",
    "print('Count of (2, 3) in Tuple is:', res) \n",
    "res = Tuple.count([3, 2]) \n",
    "print('Count of [3, 2] in Tuple is:', res)"
   ]
  },
  {
   "cell_type": "markdown",
   "id": "5714328b-5a5c-4b9a-a646-03989baea83b",
   "metadata": {},
   "source": [
    "#  Index() Method\n",
    " The Index() method returns the first occurrence of the given element from the tuple.\n",
    " Syntax:\n",
    " tuple.index(element, start, end) Parameters:\n",
    " • element: The element to be searched.\n",
    " • start (Optional): The starting index from where the searching is started\n",
    " • end (Optional): The ending index till where the searching is done\n",
    " Note: This method raises a ValueError if the \n",
    "element is not found in the tuple."
   ]
  },
  {
   "cell_type": "code",
   "execution_count": 146,
   "id": "38074a71-2079-4cb1-a956-768ae35f926f",
   "metadata": {},
   "outputs": [
    {
     "ename": "SyntaxError",
     "evalue": "invalid decimal literal (3438918136.py, line 7)",
     "output_type": "error",
     "traceback": [
      "\u001b[1;36m  Cell \u001b[1;32mIn[146], line 7\u001b[1;36m\u001b[0m\n\u001b[1;33m    First occurrence of 3 after 4th index is: 5\u001b[0m\n\u001b[1;37m                                ^\u001b[0m\n\u001b[1;31mSyntaxError\u001b[0m\u001b[1;31m:\u001b[0m invalid decimal literal\n"
     ]
    }
   ],
   "source": [
    "Tuple = (0, 1, 2, 3, 2, 3, 1, 3, 2)\n",
    "res = Tuple.index(3) \n",
    "print('First occurrence of 3 is', res) \n",
    "res = Tuple.index(3, 4) \n",
    "print('First occurrence of 3 after 4th index is:', res)\n",
    "First occurrence of 3 is 3\n",
    "First occurrence of 3 after 4th index is: 5\n",
    "Tuple = (0, 1, 2, 3, 2, 3, 1, 3, 2) \n",
    "res =Tuple.index(4)"
   ]
  },
  {
   "cell_type": "code",
   "execution_count": null,
   "id": "4b77650f-fb2e-4ef5-a0c9-c6d8dceb749a",
   "metadata": {},
   "outputs": [],
   "source": []
  }
 ],
 "metadata": {
  "kernelspec": {
   "display_name": "Python [conda env:base] *",
   "language": "python",
   "name": "conda-base-py"
  },
  "language_info": {
   "codemirror_mode": {
    "name": "ipython",
    "version": 3
   },
   "file_extension": ".py",
   "mimetype": "text/x-python",
   "name": "python",
   "nbconvert_exporter": "python",
   "pygments_lexer": "ipython3",
   "version": "3.12.7"
  }
 },
 "nbformat": 4,
 "nbformat_minor": 5
}
