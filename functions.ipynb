{
 "cells": [
  {
   "cell_type": "markdown",
   "id": "72da0c3d-7f2d-450e-8c8b-43717ee70321",
   "metadata": {},
   "source": [
    "# Python Functions "
   ]
  },
  {
   "cell_type": "code",
   "execution_count": 1,
   "id": "10cf72b9-6a98-4403-af95-9f63dfb2d461",
   "metadata": {},
   "outputs": [
    {
     "name": "stdout",
     "output_type": "stream",
     "text": [
      "Hello from a function\n"
     ]
    }
   ],
   "source": [
    "def my_function():\n",
    "    print(\"Hello from a function\")\n",
    "my_function()"
   ]
  },
  {
   "cell_type": "markdown",
   "id": "7e9b64e5-3a51-4aa4-a788-5d1f18ae9d06",
   "metadata": {},
   "source": [
    "# Arguments "
   ]
  },
  {
   "cell_type": "code",
   "execution_count": 5,
   "id": "8f6c6e7f-ebb4-479b-b959-477a20db7e4a",
   "metadata": {},
   "outputs": [
    {
     "name": "stdout",
     "output_type": "stream",
     "text": [
      "Docter Sanil\n",
      "Engineer Sanil\n",
      "Docter Laddha\n",
      "Engineer Laddha\n",
      "Docter Jay\n",
      "Engineer Jay\n"
     ]
    }
   ],
   "source": [
    "def my_function(fname):\n",
    "    print( \"Docter \" + fname)\n",
    "    print( \"Engineer \" + fname)\n",
    "my_function(\"Sanil\")\n",
    "my_function(\"Laddha\")\n",
    "my_function(\"Jay\")"
   ]
  },
  {
   "cell_type": "markdown",
   "id": "000f8e40-6e92-4a0a-b05f-d7405bb084f4",
   "metadata": {},
   "source": [
    "# Number of Arguments "
   ]
  },
  {
   "cell_type": "code",
   "execution_count": 7,
   "id": "4206646d-e3f4-4858-8e9a-0f2f22bfbafd",
   "metadata": {},
   "outputs": [
    {
     "name": "stdout",
     "output_type": "stream",
     "text": [
      "Jay Ram Thakur\n"
     ]
    }
   ],
   "source": [
    "def my_function(fname,mname,lname):\n",
    "    print(fname + \" \" + mname + \" \" + lname)\n",
    "my_function(\"Jay\", \"Ram\", \"Thakur\")"
   ]
  },
  {
   "cell_type": "code",
   "execution_count": 13,
   "id": "e22a2f29-bc67-4ada-8462-aa74a298e49e",
   "metadata": {},
   "outputs": [
    {
     "name": "stdout",
     "output_type": "stream",
     "text": [
      "The youngest child is Abhisehek\n"
     ]
    }
   ],
   "source": [
    "def my_function(*kids):\n",
    "    print(\"The youngest child is \" + kids[0])\n",
    "my_function(\"Abhisehek\", \"Ammar\", \"Sanskar\")"
   ]
  },
  {
   "cell_type": "markdown",
   "id": "32fa8087-64d9-437b-b5ca-451738769744",
   "metadata": {},
   "source": [
    "# Keyword Arguments "
   ]
  },
  {
   "cell_type": "code",
   "execution_count": 15,
   "id": "d96fa7f0-65c2-447f-a35b-594be59edb04",
   "metadata": {},
   "outputs": [
    {
     "name": "stdout",
     "output_type": "stream",
     "text": [
      "The Youngest child is Kali Maa\n"
     ]
    }
   ],
   "source": [
    "def my_function(child3, child2, child1, child4):\n",
    "    print(\"The Youngest child is \" + child4)\n",
    "my_function(child1 = \"Ram\", child2 = \"Krishna\", child3 = \"Hari\", child4 = \"Kali Maa\")"
   ]
  },
  {
   "cell_type": "markdown",
   "id": "4626ea13-c316-4f46-abe3-fec078f468e2",
   "metadata": {},
   "source": [
    "# Arbitary Keyword Arguments "
   ]
  },
  {
   "cell_type": "code",
   "execution_count": 17,
   "id": "69fbc869-faa5-4c4f-a573-c0c0969dc61c",
   "metadata": {},
   "outputs": [
    {
     "name": "stdout",
     "output_type": "stream",
     "text": [
      "His first name is Ram\n",
      "His last name is Thakur\n"
     ]
    }
   ],
   "source": [
    "def my_function(**kid):\n",
    "    print(\"His first name is \" + kid[\"fname\"])\n",
    "    print(\"His last name is \" + kid[\"lname\"])\n",
    "my_function(fname = \"Ram\", lname = \"Thakur\")"
   ]
  },
  {
   "cell_type": "markdown",
   "id": "7dd166f2-246f-4170-b48b-63471d8c7f2e",
   "metadata": {},
   "source": [
    "# Default Parameter Value"
   ]
  },
  {
   "cell_type": "code",
   "execution_count": 19,
   "id": "64087339-7aba-4237-96a4-ead4ae5210f7",
   "metadata": {},
   "outputs": [
    {
     "name": "stdout",
     "output_type": "stream",
     "text": [
      "I am from Brazil\n",
      "I am from Norway\n",
      "I am from USA\n",
      "I am from India\n"
     ]
    }
   ],
   "source": [
    "def my_function(country = \"India\"):\n",
    "    print(\"I am from \" + country)\n",
    "my_function(\"Brazil\")\n",
    "my_function(\"Norway\")\n",
    "my_function(\"USA\")\n",
    "my_function()"
   ]
  },
  {
   "cell_type": "markdown",
   "id": "d6ce0032-6432-4a4b-af33-7fe074ad76ec",
   "metadata": {},
   "source": [
    "# Passing a List as an Argument "
   ]
  },
  {
   "cell_type": "code",
   "execution_count": 39,
   "id": "053ab93f-c8a5-4772-87c4-fb5b6fd7c732",
   "metadata": {},
   "outputs": [
    {
     "name": "stdout",
     "output_type": "stream",
     "text": [
      "Apple\n",
      "Banana\n",
      "Mango\n",
      "Pineapple\n",
      "Jay\n",
      "Ammar\n",
      "Ritesh\n",
      "Sanskar\n"
     ]
    }
   ],
   "source": [
    "def my_function(fruits,names):\n",
    "    for x in fruits:\n",
    "        print(x)\n",
    "    for y in names:\n",
    "        print(y)\n",
    "fruits = [\"Apple\", \"Banana\", \"Mango\", \"Pineapple\"]\n",
    "names = [\"Jay\", \"Ammar\", \"Ritesh\", \"Sanskar\"]\n",
    "my_function(fruits,names)"
   ]
  },
  {
   "cell_type": "markdown",
   "id": "815cb0e4-b4cd-4eea-979a-ec293a3c4af0",
   "metadata": {},
   "source": [
    "# Pass by Reference vs Value"
   ]
  },
  {
   "cell_type": "code",
   "execution_count": 41,
   "id": "a44b097b-f956-4218-9441-42cf31f18fb4",
   "metadata": {},
   "outputs": [
    {
     "name": "stdout",
     "output_type": "stream",
     "text": [
      "ID before passing: 2520317468224\n",
      "Inside function: [10, 20, 30, 40]\n",
      "ID inside the function: 2520317468224\n",
      "list after function call [10, 20, 30, 40, 90]\n"
     ]
    }
   ],
   "source": [
    "def testfunction(arg):\n",
    "   print (\"Inside function:\",arg)\n",
    "   print (\"ID inside the function:\", id(arg))\n",
    "   arg=arg.append(90)\n",
    "   \n",
    "var=[10, 20, 30, 40]\n",
    "print (\"ID before passing:\", id(var))\n",
    "testfunction(var)\n",
    "print (\"list after function call\", var)"
   ]
  },
  {
   "cell_type": "markdown",
   "id": "a0708007-fdfc-42c1-b36a-5000747450ac",
   "metadata": {},
   "source": [
    "# Types of Python Function Arguments "
   ]
  },
  {
   "cell_type": "markdown",
   "id": "0897aabb-6802-45f7-8830-46111e9ca329",
   "metadata": {},
   "source": [
    "# Positional or Required Arguments"
   ]
  },
  {
   "cell_type": "code",
   "execution_count": 51,
   "id": "259f1021-38cc-4413-abd5-9dfba05a9751",
   "metadata": {},
   "outputs": [
    {
     "ename": "TypeError",
     "evalue": "printme() missing 1 required positional argument: 'str'",
     "output_type": "error",
     "traceback": [
      "\u001b[1;31m---------------------------------------------------------------------------\u001b[0m",
      "\u001b[1;31mTypeError\u001b[0m                                 Traceback (most recent call last)",
      "Cell \u001b[1;32mIn[51], line 4\u001b[0m\n\u001b[0;32m      2\u001b[0m     \u001b[38;5;28mprint\u001b[39m(\u001b[38;5;28mstr\u001b[39m)\n\u001b[0;32m      3\u001b[0m     \u001b[38;5;28;01mreturn\u001b[39;00m;\n\u001b[1;32m----> 4\u001b[0m printme()\n",
      "\u001b[1;31mTypeError\u001b[0m: printme() missing 1 required positional argument: 'str'"
     ]
    }
   ],
   "source": [
    "def printme(str):\n",
    "    print(str)\n",
    "    return;\n",
    "printme()"
   ]
  },
  {
   "cell_type": "markdown",
   "id": "c2467974-a152-4d3a-9176-dc42abcb5501",
   "metadata": {},
   "source": [
    "# Keyword Arguments "
   ]
  },
  {
   "cell_type": "code",
   "execution_count": 48,
   "id": "affa942b-382e-4df9-9b53-e7434148c8df",
   "metadata": {},
   "outputs": [
    {
     "name": "stdout",
     "output_type": "stream",
     "text": [
      "Name:  Jay\n",
      "Age:  18\n"
     ]
    }
   ],
   "source": [
    "def printinfo (name,age):\n",
    "    print(\"Name: \",name)\n",
    "    print(\"Age: \",age)\n",
    "    return;\n",
    "printinfo(age = 18, name = \"Jay\")"
   ]
  },
  {
   "cell_type": "markdown",
   "id": "048ca70b-a554-4013-aac0-1b3c4226bd71",
   "metadata": {},
   "source": [
    "# Default Arguments "
   ]
  },
  {
   "cell_type": "code",
   "execution_count": 53,
   "id": "79e2c05e-c412-4387-ab59-a38f48548fdf",
   "metadata": {},
   "outputs": [
    {
     "name": "stdout",
     "output_type": "stream",
     "text": [
      "Name:  Jay\n",
      "Age:  27\n",
      "Name:  Jay\n",
      "Age:  18\n"
     ]
    }
   ],
   "source": [
    "def printinfo(name,age = 18):\n",
    "    print(\"Name: \",name)\n",
    "    print(\"Age: \",age)\n",
    "    return;\n",
    "printinfo(age = 27, name = \"Jay\")\n",
    "printinfo(name = \"Jay\")\n"
   ]
  },
  {
   "cell_type": "markdown",
   "id": "601e91ea-b8d6-4f96-9bba-2878d937dd85",
   "metadata": {},
   "source": [
    "# Positional-only Arguments "
   ]
  },
  {
   "cell_type": "code",
   "execution_count": 56,
   "id": "886652c4-cd52-47fe-8fc9-95a68aeab3bc",
   "metadata": {},
   "outputs": [
    {
     "name": "stdout",
     "output_type": "stream",
     "text": [
      "Evaluating positional-only arguments: \n",
      "66\n"
     ]
    }
   ],
   "source": [
    "def posFun(x, y, /, z):\n",
    "    print(x + y + z)\n",
    "\n",
    "print(\"Evaluating positional-only arguments: \")\n",
    "posFun(33, 22, z=11) "
   ]
  },
  {
   "cell_type": "markdown",
   "id": "ef8bb2af-8b52-4528-8a41-8557db49ab7e",
   "metadata": {},
   "source": [
    "# Keyword-only Arguments"
   ]
  },
  {
   "cell_type": "code",
   "execution_count": 59,
   "id": "62f081a5-3778-4b4f-b108-6ca4160ce1c7",
   "metadata": {},
   "outputs": [
    {
     "name": "stdout",
     "output_type": "stream",
     "text": [
      "Evaluating keyword-only arguments: \n",
      "240\n"
     ]
    }
   ],
   "source": [
    "def posFun(*, num1, num2, num3):\n",
    "    print(num1 * num2 * num3)\n",
    "\n",
    "print(\"Evaluating keyword-only arguments: \")\n",
    "posFun(num3=6, num2=8, num1=5) "
   ]
  },
  {
   "cell_type": "markdown",
   "id": "ccb4a0be-4f38-499f-a88d-c46ecdd317e4",
   "metadata": {},
   "source": [
    "# Arbitrary or Variable-length Arguments"
   ]
  },
  {
   "cell_type": "code",
   "execution_count": 62,
   "id": "b6e6b3b5-5536-4a64-92dd-265c144778b8",
   "metadata": {},
   "outputs": [
    {
     "name": "stdout",
     "output_type": "stream",
     "text": [
      "Output is: \n",
      "10\n",
      "Output is: \n",
      "70\n",
      "60\n",
      "50\n"
     ]
    }
   ],
   "source": [
    "def printinfo( arg1, *vartuple ):\n",
    "   \"This prints a variable passed arguments\"\n",
    "   print (\"Output is: \")\n",
    "   print (arg1)\n",
    "   for var in vartuple:\n",
    "      print (var)\n",
    "   return;\n",
    "printinfo(10)\n",
    "printinfo(70,60,50)"
   ]
  },
  {
   "cell_type": "markdown",
   "id": "fefc5a04-4aa9-42c9-aa0f-8919ae15ea6f",
   "metadata": {},
   "source": [
    "# Python Function with Return Value"
   ]
  },
  {
   "cell_type": "code",
   "execution_count": 65,
   "id": "a8f9153e-bd8b-43a7-9925-d7c38db40fad",
   "metadata": {},
   "outputs": [
    {
     "name": "stdout",
     "output_type": "stream",
     "text": [
      "a = 450 b = 570 a+b = 1020\n"
     ]
    }
   ],
   "source": [
    "def add(x,y):\n",
    "   z=x+y\n",
    "   return z\n",
    "a=450\n",
    "b=570\n",
    "result = add(a,b)\n",
    "print (\"a = {} b = {} a+b = {}\".format(a, b, result))"
   ]
  },
  {
   "cell_type": "markdown",
   "id": "f965fb9b-4c96-4735-b06d-c93cee3201e1",
   "metadata": {},
   "source": [
    "# Anonmyous Functions "
   ]
  },
  {
   "cell_type": "code",
   "execution_count": 72,
   "id": "b02acb3c-fec2-4041-b40b-02b2417da947",
   "metadata": {},
   "outputs": [
    {
     "name": "stdout",
     "output_type": "stream",
     "text": [
      "Value of total :  89\n",
      "Value of total :  110\n"
     ]
    }
   ],
   "source": [
    "sum = lambda arg1, arg2: arg1 + arg2;\n",
    "print (\"Value of total : \", sum( 32, 57 ))\n",
    "print (\"Value of total : \", sum( 43, 67 ))"
   ]
  },
  {
   "cell_type": "markdown",
   "id": "d36a7dfe-d0c0-48e8-af33-a9570095dad0",
   "metadata": {},
   "source": [
    "# Global vs. Local Variables"
   ]
  },
  {
   "cell_type": "code",
   "execution_count": 81,
   "id": "63f07b2d-abca-4a17-be0f-d37cb55ab8a1",
   "metadata": {},
   "outputs": [
    {
     "name": "stdout",
     "output_type": "stream",
     "text": [
      "Inside the function local total :  60\n",
      "Outside the function global total :  0\n"
     ]
    }
   ],
   "source": [
    "total = 0;\n",
    "def sum( arg1, arg2 ):\n",
    "   total = arg1 + arg2;\n",
    "   print (\"Inside the function local total : \", total)\n",
    "   return total;\n",
    "sum( 10, 50 );\n",
    "print (\"Outside the function global total : \", total) "
   ]
  },
  {
   "cell_type": "markdown",
   "id": "fea48442-38c5-4ab3-bd76-65ebdeb51c2c",
   "metadata": {},
   "source": [
    "# Return Values "
   ]
  },
  {
   "cell_type": "code",
   "execution_count": 84,
   "id": "41390340-74fa-4553-a8b1-566fbb72e609",
   "metadata": {},
   "outputs": [
    {
     "name": "stdout",
     "output_type": "stream",
     "text": [
      "15\n",
      "25\n",
      "45\n"
     ]
    }
   ],
   "source": [
    "def my_function(x):\n",
    "  return 5 * x\n",
    "\n",
    "print(my_function(3))\n",
    "print(my_function(5))\n",
    "print(my_function(9))"
   ]
  },
  {
   "cell_type": "markdown",
   "id": "5d51ca23-99d8-4cc1-9499-264d4ebf4416",
   "metadata": {},
   "source": [
    "# Combine Positional-Only and Keyword-Only"
   ]
  },
  {
   "cell_type": "code",
   "execution_count": 87,
   "id": "86df554f-14c9-4ce4-a89d-db8658fb4be0",
   "metadata": {},
   "outputs": [
    {
     "name": "stdout",
     "output_type": "stream",
     "text": [
      "24\n"
     ]
    }
   ],
   "source": [
    "def my_function(a, b, /, *, c, d):\n",
    "  print(a + b + c + d)\n",
    "\n",
    "my_function(4, 6, c = 9, d = 5)"
   ]
  },
  {
   "cell_type": "markdown",
   "id": "60cef237-79d8-4d5a-93f1-70a411b5cbf1",
   "metadata": {},
   "source": [
    "# Recursion"
   ]
  },
  {
   "cell_type": "code",
   "execution_count": 90,
   "id": "c4282ecc-4bbb-426c-92fc-a1a1c9661152",
   "metadata": {},
   "outputs": [
    {
     "name": "stdout",
     "output_type": "stream",
     "text": [
      "Recursion Example Results:\n",
      "1\n",
      "3\n",
      "6\n",
      "10\n",
      "15\n",
      "21\n",
      "28\n",
      "36\n",
      "45\n"
     ]
    },
    {
     "data": {
      "text/plain": [
       "45"
      ]
     },
     "execution_count": 90,
     "metadata": {},
     "output_type": "execute_result"
    }
   ],
   "source": [
    "def tri_recursion(k):\n",
    "  if(k > 0):\n",
    "    result = k + tri_recursion(k - 1)\n",
    "    print(result)\n",
    "  else:\n",
    "    result = 0\n",
    "  return result\n",
    "\n",
    "print(\"Recursion Example Results:\")\n",
    "tri_recursion(9)"
   ]
  },
  {
   "cell_type": "markdown",
   "id": "fe4d826e-99b3-4cb4-bb94-093b5a2e2ed7",
   "metadata": {},
   "source": [
    "# Python Lambda"
   ]
  },
  {
   "cell_type": "code",
   "execution_count": 95,
   "id": "d9a9d109-39cd-4e16-bead-f95adfc6e6e2",
   "metadata": {},
   "outputs": [
    {
     "name": "stdout",
     "output_type": "stream",
     "text": [
      "15\n",
      "56\n",
      "15\n"
     ]
    }
   ],
   "source": [
    "x = lambda a : a + 10\n",
    "print(x(5))\n",
    "x = lambda a, b : a * b\n",
    "print(x(8, 7))\n",
    "x = lambda a, b, c : a + b + c\n",
    "print(x(9, 4, 2))"
   ]
  },
  {
   "cell_type": "code",
   "execution_count": 97,
   "id": "ab245d70-88e8-43c7-9162-90d965066c8d",
   "metadata": {},
   "outputs": [
    {
     "name": "stdout",
     "output_type": "stream",
     "text": [
      "112\n",
      "270\n"
     ]
    }
   ],
   "source": [
    "def myfunc(n):\n",
    "  return lambda a : a * n\n",
    "\n",
    "mydoubler = myfunc(2)\n",
    "mytripler = myfunc(3)\n",
    "\n",
    "print(mydoubler(56))\n",
    "print(mytripler(90))"
   ]
  },
  {
   "cell_type": "code",
   "execution_count": null,
   "id": "a251121e-59a4-4896-9b2c-0593f3ecd434",
   "metadata": {},
   "outputs": [],
   "source": []
  }
 ],
 "metadata": {
  "kernelspec": {
   "display_name": "Python [conda env:base] *",
   "language": "python",
   "name": "conda-base-py"
  },
  "language_info": {
   "codemirror_mode": {
    "name": "ipython",
    "version": 3
   },
   "file_extension": ".py",
   "mimetype": "text/x-python",
   "name": "python",
   "nbconvert_exporter": "python",
   "pygments_lexer": "ipython3",
   "version": "3.12.7"
  }
 },
 "nbformat": 4,
 "nbformat_minor": 5
}
