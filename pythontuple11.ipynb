{
 "cells": [
  {
   "cell_type": "markdown",
   "id": "5a30d7c9-01f1-40df-92fb-f12a2718b44f",
   "metadata": {},
   "source": [
    "# Practical Assignment 2\n",
    "# use tuple for the following program"
   ]
  },
  {
   "cell_type": "markdown",
   "id": "abbfaf0d-d242-478b-8e83-177a9e5ae3f7",
   "metadata": {},
   "source": [
    "#  1.store and display studenet information (name,age,grade)"
   ]
  },
  {
   "cell_type": "code",
   "execution_count": null,
   "id": "048d8150-f21d-4f78-aae0-41881acdee64",
   "metadata": {},
   "outputs": [
    {
     "name": "stdout",
     "output_type": "stream",
     "text": [
      "Name: Sanskar\n",
      "Age: 19\n",
      "Grade: A Grade\n"
     ]
    }
   ],
   "source": [
    "student_info = (\"Jay\", 19, \"A Grade\")\n",
    "\n",
    "print(f\"Name: {student_info[0]}\")\n",
    "print(f\"Age: {student_info[1]}\")\n",
    "print(f\"Grade: {student_info[2]}\")"
   ]
  },
  {
   "cell_type": "markdown",
   "id": "fcca91c2-b412-4896-b13f-9d21cfe3f666",
   "metadata": {},
   "source": [
    "# 2.list prices of grocery items and total them"
   ]
  },
  {
   "cell_type": "code",
   "execution_count": 7,
   "id": "b4325b4b-6bf5-4dd6-937d-30642ab5777d",
   "metadata": {},
   "outputs": [
    {
     "name": "stdout",
     "output_type": "stream",
     "text": [
      "Grocery List:\n",
      "Rice: ₹50\n",
      "Milk: ₹30\n",
      "Eggs: ₹60\n",
      "Bread: ₹25\n",
      "Butter: ₹40\n",
      "\n",
      "Total Cost: ₹205\n"
     ]
    }
   ],
   "source": [
    "grocery_items = [(\"Rice\", 50),(\"Milk\", 30),(\"Eggs\", 60),(\"Bread\", 25),(\"Butter\", 40)]\n",
    "\n",
    "total_cost = sum(item[1] for item in grocery_items)\n",
    "\n",
    "print(\"Grocery List:\")\n",
    "for item, price in grocery_items:\n",
    "    print(f\"{item}: ₹{price}\")\n",
    "\n",
    "print(f\"\\nTotal Cost: ₹{total_cost}\")"
   ]
  },
  {
   "cell_type": "markdown",
   "id": "83f33f19-2e70-4c21-b486-c4767306e596",
   "metadata": {},
   "source": [
    "# 3.pair items with prices using tuple\n",
    "# (\"Milk\", 25),(\"Eggs\", 50),(\"Bread\", 20)"
   ]
  },
  {
   "cell_type": "code",
   "execution_count": 10,
   "id": "b247a12a-2cdd-4161-afc5-add9a56127c6",
   "metadata": {},
   "outputs": [
    {
     "name": "stdout",
     "output_type": "stream",
     "text": [
      "(('Milk', 25), ('Eggs', 50), ('Bread', 20))\n"
     ]
    }
   ],
   "source": [
    "items = (\"Milk\", \"Eggs\", \"Bread\")\n",
    "prices = (25, 50, 20)\n",
    "\n",
    "item_price_pairs = tuple(zip(items, prices))\n",
    "\n",
    "print(item_price_pairs)"
   ]
  },
  {
   "cell_type": "markdown",
   "id": "e84baa72-5471-40b8-befe-da6c96615f1d",
   "metadata": {},
   "source": [
    "# 4.store and display train schedule as tuple\n",
    "# (\"Rajdhani\", \"10:00\"),(\"shatabdi\", \"12:30\"),(\"Duronto\", \"17:00\")"
   ]
  },
  {
   "cell_type": "code",
   "execution_count": 15,
   "id": "39ee4814-8f88-4fa3-89b8-9ea897457876",
   "metadata": {},
   "outputs": [
    {
     "name": "stdout",
     "output_type": "stream",
     "text": [
      "Train Schedule:\n",
      "Train Name Departure      \n",
      "Rajdhani   10:00          \n",
      "Shatabdi   12:30          \n",
      "Duronto    17:00          \n"
     ]
    }
   ],
   "source": [
    "train_schedule = ((\"Train Name\", \"Departure\"),(\"Rajdhani\", \"10:00\"),(\"Shatabdi\", \"12:30\"), (\"Duronto\", \"17:00\"))\n",
    "\n",
    "print(\"Train Schedule:\")\n",
    "for train in train_schedule:\n",
    "    print(f\"{train[0]:<10} {train[1]:<15}\")"
   ]
  },
  {
   "cell_type": "markdown",
   "id": "76cf1a7e-e1ad-4bc6-af48-53f0f69144e5",
   "metadata": {},
   "source": [
    "# 5.sort employee records by salary\n",
    "# (\"John\", \"40000\"),(\"Alice\", \"55000\"),(\"Raj\", \"30000\")"
   ]
  },
  {
   "cell_type": "code",
   "execution_count": 20,
   "id": "388e885e-98b5-4478-8396-ee8cfa7bb484",
   "metadata": {},
   "outputs": [
    {
     "name": "stdout",
     "output_type": "stream",
     "text": [
      "Employees sorted by salary:\n",
      "('John', '40000')\n",
      "('John', '40000')\n",
      "('John', '40000')\n"
     ]
    }
   ],
   "source": [
    "employees = [(\"John\", \"40000\"), (\"John\", \"40000\"), (\"John\", \"40000\")]\n",
    "\n",
    "sorted_employees = sorted(employees, key=lambda x: int(x[1]))\n",
    "print(\"Employees sorted by salary:\")\n",
    "for employee in sorted_employees:\n",
    "    print(employee)"
   ]
  },
  {
   "cell_type": "markdown",
   "id": "b61cb50f-9d73-416b-979a-4f238ed985b4",
   "metadata": {},
   "source": [
    "# 6.count how many studs scored above 75 marks\n",
    "# marks=(67,88,92,74,76,55)"
   ]
  },
  {
   "cell_type": "code",
   "execution_count": 23,
   "id": "3c9c8937-6fae-4c3b-a4a4-9074f7f057ae",
   "metadata": {},
   "outputs": [
    {
     "name": "stdout",
     "output_type": "stream",
     "text": [
      "Number of students who scored above 75: 3\n"
     ]
    }
   ],
   "source": [
    "student_marks = (67,88,92,74,76,55)\n",
    "\n",
    "count_above_75 = sum(1 for mark in student_marks if mark > 75)\n",
    "\n",
    "print(f\"Number of students who scored above 75: {count_above_75}\")"
   ]
  },
  {
   "cell_type": "markdown",
   "id": "95dbf3c3-d992-42fa-ac3d-73a00312d276",
   "metadata": {},
   "source": [
    "# 7.Create a tuple of stock prices and find the max.\n",
    "# Prices (154.5, 160.2, 149.8, 170.1)\n"
   ]
  },
  {
   "cell_type": "code",
   "execution_count": 28,
   "id": "e57e4b5d-bfb8-4d16-b0bf-8010ba1a5ae8",
   "metadata": {},
   "outputs": [
    {
     "name": "stdout",
     "output_type": "stream",
     "text": [
      "Stock Prices: (154.5, 160.2, 149.8, 170.1)\n",
      "Maximum Stock Price as Tuple: (170.1,)\n"
     ]
    }
   ],
   "source": [
    "stock_prices = (154.5, 160.2, 149.8, 170.1)\n",
    "\n",
    "max_price_tuple = (max(stock_prices),)\n",
    "\n",
    "print(\"Stock Prices:\", stock_prices)\n",
    "print(\"Maximum Stock Price as Tuple:\", max_price_tuple)"
   ]
  },
  {
   "cell_type": "markdown",
   "id": "886360f2-fb2c-48a5-a8cc-7f7d9e5a5f1a",
   "metadata": {},
   "source": [
    "# 8.Log temperature readings during the day. Find the average temperature\n",
    "# temperatures = (29.5, 30.0, 32.2, 31.5, 28.9)\n"
   ]
  },
  {
   "cell_type": "code",
   "execution_count": 31,
   "id": "adafdd00-314c-4228-9fdc-e3b0652c0106",
   "metadata": {},
   "outputs": [
    {
     "name": "stdout",
     "output_type": "stream",
     "text": [
      "Temperature Readings: (29.5, 30.0, 32.2, 31.5, 28.9)\n",
      "Average Temperature: 30.419999999999998\n"
     ]
    }
   ],
   "source": [
    "temperature_readings = (29.5, 30.0, 32.2, 31.5, 28.9) \n",
    "\n",
    "average_temperature = sum(temperature_readings) / len(temperature_readings)\n",
    "\n",
    "result = (temperature_readings, average_temperature)\n",
    "\n",
    "print(\"Temperature Readings:\", result[0])\n",
    "print(\"Average Temperature:\", result[1])"
   ]
  },
  {
   "cell_type": "markdown",
   "id": "ee6b0184-f347-40b9-9ce3-8ae3b48320c3",
   "metadata": {},
   "source": [
    "# 9.Schedule appointments (name, time).\n",
    "# appointments (\"Doctor\", \"10:00 AM\"), (\"Meeting\", \"2:00 PM\")\n"
   ]
  },
  {
   "cell_type": "code",
   "execution_count": 39,
   "id": "7105f778-65c4-473f-b301-09ade57ba26a",
   "metadata": {},
   "outputs": [
    {
     "name": "stdout",
     "output_type": "stream",
     "text": [
      "Appointment scheduled for Doctor at 10:00 AM.\n",
      "Appointment scheduled for Meeting at 2:00 PM.\n",
      "Scheduled Appointments:\n",
      "1. Doctor at 10:00 AM\n",
      "2. Meeting at 2:00 PM\n"
     ]
    }
   ],
   "source": [
    "appointments = []\n",
    "\n",
    "def schedule_appointment(name, time):\n",
    "    appointment = (name, time)\n",
    "    appointments.append(appointment)\n",
    "    print(f\"Appointment scheduled for {name} at {time}.\")\n",
    "\n",
    "def display_appointments():\n",
    "    print(\"Scheduled Appointments:\")\n",
    "    for index, (name, time) in enumerate(appointments, start=1):\n",
    "        print(f\"{index}. {name} at {time}\")\n",
    "\n",
    "schedule_appointment(\"Doctor\", \"10:00 AM\")\n",
    "schedule_appointment(\"Meeting\", \"2:00 PM\")\n",
    "display_appointments()"
   ]
  },
  {
   "cell_type": "markdown",
   "id": "dc6e460f-38fa-41d2-8f62-078ced3c74a1",
   "metadata": {},
   "source": [
    "# 10.Store contact info (name, phone number). contacts = (\"Anil\", \"9876543210\"), (\"Priya\", \"9123456780\")\n"
   ]
  },
  {
   "cell_type": "code",
   "execution_count": 42,
   "id": "ce205bab-ccca-46a5-887a-ad9ba84e32e4",
   "metadata": {},
   "outputs": [
    {
     "name": "stdout",
     "output_type": "stream",
     "text": [
      "Name: Anil | Phone Number: 9876543210\n",
      "Name: Priya | Phone Number: 9123456780\n"
     ]
    }
   ],
   "source": [
    "contacts = [(\"Anil\", \"9876543210\"),(\"Priya\", \"9123456780\")]\n",
    "\n",
    "for contact in contacts:\n",
    "    print(\"Name:\", contact[0], \"| Phone Number:\", contact[1])"
   ]
  },
  {
   "cell_type": "markdown",
   "id": "3ef3a6a8-3016-44ba-9ef9-0fe5b09ea522",
   "metadata": {},
   "source": [
    "# 11. Display exam schedule with subject and time. exams (\"Math\", \"9:00 AM\"), (\"Science\", \"11:30 AM\"), (\"English\", \"2:00 PM\")"
   ]
  },
  {
   "cell_type": "code",
   "execution_count": 45,
   "id": "c1c0cf6e-2151-45b8-99ae-a1ce40ca37b1",
   "metadata": {},
   "outputs": [
    {
     "name": "stdout",
     "output_type": "stream",
     "text": [
      "Exam Schedule:\n",
      "Subject: Math, Time: 9:00 AM\n",
      "Subject: Math, Time: 9:00 AM\n",
      "Subject: English, Time: 2:00 PM\n"
     ]
    }
   ],
   "source": [
    "exam_schedule = ((\"Math\", \"9:00 AM\"),(\"Math\", \"9:00 AM\"),(\"English\", \"2:00 PM\"))\n",
    "\n",
    "print(\"Exam Schedule:\")\n",
    "for subject, time in exam_schedule:\n",
    "    print(f\"Subject: {subject}, Time: {time}\")"
   ]
  },
  {
   "cell_type": "code",
   "execution_count": null,
   "id": "ba5132a8-3bb4-4a35-95e5-7f98c79a57db",
   "metadata": {},
   "outputs": [],
   "source": []
  }
 ],
 "metadata": {
  "kernelspec": {
   "display_name": "Python [conda env:base] *",
   "language": "python",
   "name": "conda-base-py"
  },
  "language_info": {
   "codemirror_mode": {
    "name": "ipython",
    "version": 3
   },
   "file_extension": ".py",
   "mimetype": "text/x-python",
   "name": "python",
   "nbconvert_exporter": "python",
   "pygments_lexer": "ipython3",
   "version": "3.12.7"
  }
 },
 "nbformat": 4,
 "nbformat_minor": 5
}
