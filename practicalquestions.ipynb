{
 "cells": [
  {
   "cell_type": "markdown",
   "id": "de646829-5bac-4c37-95d1-520a6accc5c5",
   "metadata": {},
   "source": [
    "# Check the given number is odd or even"
   ]
  },
  {
   "cell_type": "code",
   "execution_count": 11,
   "id": "6b1ffb12-78a2-4f09-95af-66f842d3be6a",
   "metadata": {},
   "outputs": [
    {
     "name": "stdin",
     "output_type": "stream",
     "text": [
      "Enter Your Number: 456\n"
     ]
    },
    {
     "name": "stdout",
     "output_type": "stream",
     "text": [
      "The Given Number is Even.\n"
     ]
    }
   ],
   "source": [
    "def evenodd(iput): \n",
    "    if iput%2==0:\n",
    "        print(\"The Given Number is Even.\")\n",
    "    else:\n",
    "        print(\"The Given Nunmber is Odd.\")\n",
    "\n",
    "iput = int(input(\"Enter Your Number:\"))\n",
    "evenodd(iput)"
   ]
  },
  {
   "cell_type": "markdown",
   "id": "59629a25-0ba0-4437-9d16-f96fcac4c991",
   "metadata": {},
   "source": [
    "# Count the total number of digits in a number"
   ]
  },
  {
   "cell_type": "code",
   "execution_count": 28,
   "id": "f7d3e2b0-6caf-4f84-a6c0-ccc3f6c50731",
   "metadata": {},
   "outputs": [
    {
     "name": "stdin",
     "output_type": "stream",
     "text": [
      "Enter a Number:  445621\n"
     ]
    },
    {
     "data": {
      "text/plain": [
       "6"
      ]
     },
     "execution_count": 28,
     "metadata": {},
     "output_type": "execute_result"
    }
   ],
   "source": [
    "def countdigi(iput):\n",
    "    count = 0\n",
    "    while iput>0: \n",
    "         iput = iput//10\n",
    "         count = count + 1 \n",
    "    return count\n",
    "\n",
    "iput = int(input(\"Enter a Number: \"))\n",
    "countdigi(iput)"
   ]
  },
  {
   "cell_type": "markdown",
   "id": "f3cc81d7-7c42-46c2-a38f-0150c877b062",
   "metadata": {},
   "source": [
    "# Write a Python program to print the reverse number pattern using a for loop\n",
    "# 5 4 3 2 1 \n",
    "# 4 3 2 1 \n",
    "# 3 2 1 \n",
    "# 2 1\n",
    "# 1 "
   ]
  },
  {
   "cell_type": "code",
   "execution_count": 51,
   "id": "c601f151-cdce-47a3-921f-a845cee12637",
   "metadata": {},
   "outputs": [
    {
     "name": "stdin",
     "output_type": "stream",
     "text": [
      "Enter The Number of Rows:  5\n"
     ]
    },
    {
     "name": "stdout",
     "output_type": "stream",
     "text": [
      "54321\n",
      "4321\n",
      "321\n",
      "21\n",
      "1\n"
     ]
    }
   ],
   "source": [
    "def pattern(rows):\n",
    "    for i in range(rows, 0, -1):\n",
    "        for j in range(i, 0, -1):\n",
    "            print(j, end = \"\")\n",
    "        print()\n",
    "\n",
    "rows = int(input(\"Enter The Number of Rows: \"))\n",
    "pattern(rows)"
   ]
  },
  {
   "cell_type": "markdown",
   "id": "63922113-6057-4616-8341-6512996e0413",
   "metadata": {},
   "source": [
    "# Find the factorial of a given number"
   ]
  },
  {
   "cell_type": "code",
   "execution_count": 56,
   "id": "aef0c176-84e0-41c4-82b7-fbc309a958ad",
   "metadata": {},
   "outputs": [
    {
     "name": "stdin",
     "output_type": "stream",
     "text": [
      "Enter a Nunmber:  5\n"
     ]
    },
    {
     "name": "stdout",
     "output_type": "stream",
     "text": [
      "Factorial = 120\n"
     ]
    }
   ],
   "source": [
    "def facto(num):\n",
    "    if num>=1:\n",
    "        return num*facto(num-1)\n",
    "    else:\n",
    "        return 1\n",
    "fact=1\n",
    "num=int(input(\"Enter a Nunmber: \"))\n",
    "fact=facto(num)\n",
    "print(\"Factorial =\" ,fact)"
   ]
  },
  {
   "cell_type": "markdown",
   "id": "31956da6-552e-4ae3-929a-6966b42079df",
   "metadata": {},
   "source": [
    "# Print all prime numbers within a range"
   ]
  },
  {
   "cell_type": "code",
   "execution_count": 69,
   "id": "b555b78a-6444-4652-8f74-8c7614b5ff6e",
   "metadata": {},
   "outputs": [
    {
     "name": "stdin",
     "output_type": "stream",
     "text": [
      "Enter the starting number of the range:  10\n",
      "Enter the ending number of the range:  100\n"
     ]
    },
    {
     "name": "stdout",
     "output_type": "stream",
     "text": [
      "Prime numbers between 10 and 100 are: \n",
      "11 13 17 19 23 29 31 37 41 43 47 53 59 61 67 71 73 79 83 89 97 "
     ]
    }
   ],
   "source": [
    "def prime(n):\n",
    "    if n < 2:\n",
    "        return False\n",
    "    for i in range(2, int(n ** 0.5)+1):\n",
    "        if n % i == 0:\n",
    "            return False\n",
    "    return True \n",
    "start = int(input(\"Enter the starting number of the range: \"))\n",
    "end = int(input(\"Enter the ending number of the range: \"))\n",
    "print(f\"Prime numbers between {start} and {end} are: \")\n",
    "for n in range(start,end+1):\n",
    "    if prime(n):\n",
    "        print(n,end=\" \")"
   ]
  },
  {
   "cell_type": "markdown",
   "id": "11643233-84b0-4912-8073-043d4caef404",
   "metadata": {},
   "source": [
    "# Program to Check Armstrong Number"
   ]
  },
  {
   "cell_type": "code",
   "execution_count": 6,
   "id": "a56ed65d-90db-4ba2-bf96-63809b678aa2",
   "metadata": {},
   "outputs": [
    {
     "name": "stdout",
     "output_type": "stream",
     "text": [
      "True\n"
     ]
    }
   ],
   "source": [
    "def power(x, y):\n",
    "    if y == 0:\n",
    "        return 1\n",
    "    if y % 2 == 0:\n",
    "        return power(x, y // 2) * power(x, y // 2)\n",
    "    return x * power(x, y // 2) * power(x, y // 2)\n",
    "\n",
    "def order(x):\n",
    "    n = 0\n",
    "    while (x != 0):\n",
    "        n = n + 1\n",
    "        x = x // 10\n",
    "    return n\n",
    "\n",
    "def isArmstrong(x):\n",
    "    n = order(x)\n",
    "    temp = x\n",
    "    sum1 = 0 \n",
    "    while (temp != 0):\n",
    "        r = temp % 10\n",
    "        sum1 = sum1 + power(r,n)\n",
    "        temp = temp // 10\n",
    "    return (sum1 == x)\n",
    "\n",
    "x = 153 \n",
    "print(isArmstrong(x))"
   ]
  },
  {
   "cell_type": "markdown",
   "id": "6ef2805d-96d4-43fc-a11f-a0b577d7752f",
   "metadata": {},
   "source": [
    "# Python Program to Print the Natural Numbers Summation Pattern\n",
    "# Given a natural number n, the task is to write a Python program to first find the sum of first # # n\n",
    "# natural numbers and then print each step as a pattern.\n",
    "# Input: 5\n",
    "# Output:\n",
    "# 1 = 1\n",
    "# 1 + 2 = 3\n",
    "# 1 + 2 + 3 = 6\n",
    "# 1 + 2 + 3 + 4 = 10\n",
    "# 1 + 2 + 3 + 4 + 5 = 15"
   ]
  },
  {
   "cell_type": "code",
   "execution_count": 1,
   "id": "bb7e73f6-7bdb-4aee-ac78-db582c069fc9",
   "metadata": {},
   "outputs": [
    {
     "name": "stdin",
     "output_type": "stream",
     "text": [
      "Enter A Value: 5\n"
     ]
    },
    {
     "name": "stdout",
     "output_type": "stream",
     "text": [
      "1 = 1\n",
      "1 + 2 = 3\n",
      "1 + 2 + 3 = 6\n",
      "1 + 2 + 3 + 4 = 10\n",
      "1 + 2 + 3 + 4 + 5 = 15\n"
     ]
    }
   ],
   "source": [
    "def print_summation_pattern(n):\n",
    "    total = 0\n",
    "    for i in range(1, n + 1):\n",
    "        total += i\n",
    "        print(\" + \".join(map(str, range(1, i + 1))), \"=\", total)\n",
    "\n",
    "n = int(input(\"Enter A Value:\"))\n",
    "print_summation_pattern(n)"
   ]
  },
  {
   "cell_type": "markdown",
   "id": "3e0f4ca6-3008-4ad3-b2df-37dbee85f512",
   "metadata": {},
   "source": [
    "# Program to check if number is palindrome"
   ]
  },
  {
   "cell_type": "code",
   "execution_count": 5,
   "id": "95062775-d3f4-4181-96d1-1a1a5a1c69a8",
   "metadata": {},
   "outputs": [
    {
     "name": "stdin",
     "output_type": "stream",
     "text": [
      "Enter a number:  121\n"
     ]
    },
    {
     "name": "stdout",
     "output_type": "stream",
     "text": [
      "121 is a palindrome.\n"
     ]
    }
   ],
   "source": [
    "def is_palindrome(num):\n",
    "    original = str(num)\n",
    "    reversed_number = original[::-1]\n",
    "    return original == reversed_number\n",
    "\n",
    "num = int(input(\"Enter a number: \"))\n",
    "\n",
    "if is_palindrome(num):\n",
    "    print(f\"{num} is a palindrome.\")\n",
    "else:\n",
    "    print(f\"{num} is not a palindrome.\")"
   ]
  },
  {
   "cell_type": "markdown",
   "id": "e3db5e0b-36de-44c5-aad9-56e094360661",
   "metadata": {},
   "source": [
    "# Find Maximum of three numbers"
   ]
  },
  {
   "cell_type": "code",
   "execution_count": 18,
   "id": "dc309b43-5219-427c-99cb-e1af670a4fa8",
   "metadata": {},
   "outputs": [
    {
     "name": "stdin",
     "output_type": "stream",
     "text": [
      "Enter first number:  8 \n",
      "Enter second number:  88\n",
      "Enter third number:  888\n"
     ]
    },
    {
     "name": "stdout",
     "output_type": "stream",
     "text": [
      "The maximum number is: 888\n"
     ]
    }
   ],
   "source": [
    "def find_max(a, b, c):\n",
    "    if a >= b and a >= c:\n",
    "        return a\n",
    "    elif b >= a and b >= c:\n",
    "        return b\n",
    "    else:\n",
    "        return c\n",
    "\n",
    "x = int(input(\"Enter first number: \"))\n",
    "y = int(input(\"Enter second number: \"))\n",
    "z = int(input(\"Enter third number: \"))\n",
    "\n",
    "print(\"The maximum number is:\", find_max(x, y, z))"
   ]
  },
  {
   "cell_type": "markdown",
   "id": "20637d1f-73ac-47eb-b571-3ef9297032b7",
   "metadata": {},
   "source": [
    "# Find the Sum of digits"
   ]
  },
  {
   "cell_type": "code",
   "execution_count": 21,
   "id": "56b62648-6e0e-4324-9a02-9f4741a0a724",
   "metadata": {},
   "outputs": [
    {
     "name": "stdin",
     "output_type": "stream",
     "text": [
      "Enter 1st number:  6 \n",
      "Enter 2nd number:  7\n",
      "Enter 3rd number:  8\n"
     ]
    },
    {
     "name": "stdout",
     "output_type": "stream",
     "text": [
      "21\n"
     ]
    }
   ],
   "source": [
    "def sum():\n",
    "    a = int(input(\"Enter 1st number: \"))\n",
    "    b = int(input(\"Enter 2nd number: \"))\n",
    "    c = int(input(\"Enter 3rd number: \"))\n",
    "    total = a + b + c\n",
    "    return total\n",
    "\n",
    "print(sum())"
   ]
  }
 ],
 "metadata": {
  "kernelspec": {
   "display_name": "Python [conda env:base] *",
   "language": "python",
   "name": "conda-base-py"
  },
  "language_info": {
   "codemirror_mode": {
    "name": "ipython",
    "version": 3
   },
   "file_extension": ".py",
   "mimetype": "text/x-python",
   "name": "python",
   "nbconvert_exporter": "python",
   "pygments_lexer": "ipython3",
   "version": "3.12.7"
  }
 },
 "nbformat": 4,
 "nbformat_minor": 5
}
